{
 "cells": [
  {
   "cell_type": "code",
   "execution_count": 1,
   "metadata": {},
   "outputs": [
    {
     "name": "stderr",
     "output_type": "stream",
     "text": [
      "/home/fmsnew/miniconda3/envs/tf_nasbench/lib/python3.6/site-packages/tensorflow/python/framework/dtypes.py:523: FutureWarning: Passing (type, 1) or '1type' as a synonym of type is deprecated; in a future version of numpy, it will be understood as (type, (1,)) / '(1,)type'.\n",
      "  _np_qint8 = np.dtype([(\"qint8\", np.int8, 1)])\n",
      "/home/fmsnew/miniconda3/envs/tf_nasbench/lib/python3.6/site-packages/tensorflow/python/framework/dtypes.py:524: FutureWarning: Passing (type, 1) or '1type' as a synonym of type is deprecated; in a future version of numpy, it will be understood as (type, (1,)) / '(1,)type'.\n",
      "  _np_quint8 = np.dtype([(\"quint8\", np.uint8, 1)])\n",
      "/home/fmsnew/miniconda3/envs/tf_nasbench/lib/python3.6/site-packages/tensorflow/python/framework/dtypes.py:525: FutureWarning: Passing (type, 1) or '1type' as a synonym of type is deprecated; in a future version of numpy, it will be understood as (type, (1,)) / '(1,)type'.\n",
      "  _np_qint16 = np.dtype([(\"qint16\", np.int16, 1)])\n",
      "/home/fmsnew/miniconda3/envs/tf_nasbench/lib/python3.6/site-packages/tensorflow/python/framework/dtypes.py:526: FutureWarning: Passing (type, 1) or '1type' as a synonym of type is deprecated; in a future version of numpy, it will be understood as (type, (1,)) / '(1,)type'.\n",
      "  _np_quint16 = np.dtype([(\"quint16\", np.uint16, 1)])\n",
      "/home/fmsnew/miniconda3/envs/tf_nasbench/lib/python3.6/site-packages/tensorflow/python/framework/dtypes.py:527: FutureWarning: Passing (type, 1) or '1type' as a synonym of type is deprecated; in a future version of numpy, it will be understood as (type, (1,)) / '(1,)type'.\n",
      "  _np_qint32 = np.dtype([(\"qint32\", np.int32, 1)])\n",
      "/home/fmsnew/miniconda3/envs/tf_nasbench/lib/python3.6/site-packages/tensorflow/python/framework/dtypes.py:532: FutureWarning: Passing (type, 1) or '1type' as a synonym of type is deprecated; in a future version of numpy, it will be understood as (type, (1,)) / '(1,)type'.\n",
      "  np_resource = np.dtype([(\"resource\", np.ubyte, 1)])\n"
     ]
    }
   ],
   "source": [
    "import tensorflow as tf\n",
    "tf.enable_eager_execution()"
   ]
  },
  {
   "cell_type": "code",
   "execution_count": 2,
   "metadata": {},
   "outputs": [],
   "source": [
    "from __future__ import absolute_import\n",
    "from __future__ import division\n",
    "from __future__ import print_function\n",
    "\n",
    "import time\n",
    "\n",
    "from nasbench.lib import cifar\n",
    "from nasbench.lib import model_builder\n",
    "from nasbench.lib import training_time\n",
    "import numpy as np\n",
    "\n",
    "\n",
    "from nasbench.lib import evaluate\n",
    "from nasbench.lib import model_spec\n",
    "from nasbench.lib import config as _config\n",
    "\n",
    "from nasbench.scripts.run_evaluation import NumpyEncoder\n",
    "\n",
    "import json\n",
    "import functools"
   ]
  },
  {
   "cell_type": "code",
   "execution_count": null,
   "metadata": {},
   "outputs": [],
   "source": []
  },
  {
   "cell_type": "code",
   "execution_count": 3,
   "metadata": {},
   "outputs": [],
   "source": [
    "import os\n",
    "os.environ['AUTOGRAPH_VERBOSITY'] = '10'"
   ]
  },
  {
   "cell_type": "code",
   "execution_count": 4,
   "metadata": {},
   "outputs": [],
   "source": [
    "config = _config.build_config()\n",
    "config['use_tpu'] = False\n",
    "config['train_data_files'] = ['train_1.tfrecords', 'train_2.tfrecords', 'train_3.tfrecords', 'train_4.tfrecords']\n",
    "config['valid_data_file'] = ['validation.tfrecords']\n",
    "config['test_data_file'] = ['test.tfrecords']\n",
    "config['sample_data_file'] = ['sample.tfrecords']\n",
    "config['train_epochs'] = 36\n",
    "\n",
    "matrix=[[0, 1, 1, 1, 0, 1, 0],    # input layer\n",
    "      [0, 0, 0, 0, 0, 0, 1],    # 1x1 conv\n",
    "      [0, 0, 0, 0, 0, 0, 1],    # 3x3 conv\n",
    "      [0, 0, 0, 0, 1, 0, 0],    # 5x5 conv (replaced by two 3x3's)\n",
    "      [0, 0, 0, 0, 0, 0, 1],    # 5x5 conv (replaced by two 3x3's)\n",
    "      [0, 0, 0, 0, 0, 0, 1],    # 3x3 max-pool\n",
    "      [0, 0, 0, 0, 0, 0, 0]]   # output layer\n",
    "# Operations at the vertices of the module, matches order of matrix\n",
    "labels=['input', 'conv1x1-bn-relu', 'conv3x3-bn-relu', 'conv3x3-bn-relu', 'conv3x3-bn-relu', 'maxpool3x3', 'output']\n",
    "\n",
    "\n",
    "matrix = np.array(matrix)\n",
    "labels = np.array(labels)\n",
    "\n",
    "spec = model_spec.ModelSpec(matrix, labels)\n",
    "model_dir = '../my_model_dir'"
   ]
  },
  {
   "cell_type": "code",
   "execution_count": 5,
   "metadata": {},
   "outputs": [],
   "source": [
    "run_config = tf.contrib.tpu.RunConfig(model_dir=model_dir)"
   ]
  },
  {
   "cell_type": "markdown",
   "metadata": {},
   "source": [
    "# check model accuracy"
   ]
  },
  {
   "cell_type": "code",
   "execution_count": 6,
   "metadata": {},
   "outputs": [],
   "source": [
    "input_test = cifar.CIFARInput('test', config)"
   ]
  },
  {
   "cell_type": "code",
   "execution_count": 7,
   "metadata": {},
   "outputs": [
    {
     "name": "stdout",
     "output_type": "stream",
     "text": [
      "INFO:tensorflow:Using config: {'_model_dir': '../my_model_dir', '_tf_random_seed': None, '_save_summary_steps': 100, '_save_checkpoints_steps': None, '_save_checkpoints_secs': 600, '_session_config': allow_soft_placement: true\n",
      "graph_options {\n",
      "  rewrite_options {\n",
      "    meta_optimizer_iterations: ONE\n",
      "  }\n",
      "}\n",
      ", '_keep_checkpoint_max': 5, '_keep_checkpoint_every_n_hours': 10000, '_log_step_count_steps': None, '_train_distribute': None, '_device_fn': None, '_protocol': None, '_eval_distribute': None, '_experimental_distribute': None, '_service': None, '_cluster_spec': <tensorflow.python.training.server_lib.ClusterSpec object at 0x7f2e035eb7f0>, '_task_type': 'worker', '_task_id': 0, '_global_id_in_cluster': 0, '_master': '', '_evaluation_master': '', '_is_chief': True, '_num_ps_replicas': 0, '_num_worker_replicas': 1, '_tpu_config': TPUConfig(iterations_per_loop=2, num_shards=None, num_cores_per_replica=None, per_host_input_for_training=2, tpu_job_name=None, initial_infeed_sleep_secs=None, input_partition_dims=None), '_cluster': None}\n",
      "INFO:tensorflow:_TPUContext: eval_on_tpu True\n",
      "WARNING:tensorflow:eval_on_tpu ignored because use_tpu is False.\n"
     ]
    }
   ],
   "source": [
    "est = tf.contrib.tpu.TPUEstimator(\n",
    "      use_tpu=config['use_tpu'],\n",
    "      model_fn=model_builder.build_model_fn(spec, config, None),\n",
    "      config=run_config,\n",
    "      params={'use_KD':False},\n",
    "      train_batch_size=config['batch_size'],\n",
    "      eval_batch_size=config['batch_size'],\n",
    "      predict_batch_size=1000)"
   ]
  },
  {
   "cell_type": "code",
   "execution_count": 8,
   "metadata": {},
   "outputs": [],
   "source": [
    "est_preds = est.predict(input_fn=input_test.input_fn, yield_single_examples=False)"
   ]
  },
  {
   "cell_type": "code",
   "execution_count": 9,
   "metadata": {},
   "outputs": [
    {
     "name": "stdout",
     "output_type": "stream",
     "text": [
      "WARNING:tensorflow:From /home/fmsnew/misc/nasbench/nasbench/lib/cifar.py:122: map_and_batch (from tensorflow.contrib.data.python.ops.batching) is deprecated and will be removed in a future version.\n",
      "Instructions for updating:\n",
      "Use `tf.data.experimental.map_and_batch(...)`.\n",
      "INFO:tensorflow:Calling model_fn.\n",
      "INFO:tensorflow:Running infer on CPU\n",
      "INFO:tensorflow:vertex_channels: [128, 32, 32, 32, 32, 32, 128]\n",
      "INFO:tensorflow:vertex_channels: [128, 32, 32, 32, 32, 32, 128]\n",
      "INFO:tensorflow:vertex_channels: [128, 32, 32, 32, 32, 32, 128]\n",
      "INFO:tensorflow:vertex_channels: [128, 64, 64, 64, 64, 64, 256]\n",
      "INFO:tensorflow:vertex_channels: [256, 64, 64, 64, 64, 64, 256]\n",
      "INFO:tensorflow:vertex_channels: [256, 64, 64, 64, 64, 64, 256]\n",
      "INFO:tensorflow:vertex_channels: [256, 128, 128, 128, 128, 128, 512]\n",
      "INFO:tensorflow:vertex_channels: [512, 128, 128, 128, 128, 128, 512]\n",
      "INFO:tensorflow:vertex_channels: [512, 128, 128, 128, 128, 128, 512]\n",
      "INFO:tensorflow:Done calling model_fn.\n",
      "INFO:tensorflow:Graph was finalized.\n",
      "INFO:tensorflow:Restoring parameters from ../my_model_dir/model.ckpt-5625\n",
      "INFO:tensorflow:Running local_init_op.\n",
      "INFO:tensorflow:Done running local_init_op.\n",
      "INFO:tensorflow:prediction_loop marked as finished\n",
      "INFO:tensorflow:prediction_loop marked as finished\n"
     ]
    }
   ],
   "source": [
    "all_pred_logits = []\n",
    "for preds in est_preds:\n",
    "    all_pred_logits.append(preds['logits'])\n",
    "all_pred_logits = np.vstack(all_pred_logits)"
   ]
  },
  {
   "cell_type": "code",
   "execution_count": 10,
   "metadata": {},
   "outputs": [],
   "source": [
    "preds = np.argmax(all_pred_logits, axis=1)"
   ]
  },
  {
   "cell_type": "code",
   "execution_count": 11,
   "metadata": {},
   "outputs": [
    {
     "data": {
      "text/plain": [
       "array([3, 8, 8, ..., 5, 1, 7])"
      ]
     },
     "execution_count": 11,
     "metadata": {},
     "output_type": "execute_result"
    }
   ],
   "source": [
    "preds"
   ]
  },
  {
   "cell_type": "code",
   "execution_count": 12,
   "metadata": {},
   "outputs": [],
   "source": [
    "dataset = input_test.input_fn({'batch_size':1000, 'use_KD':False})"
   ]
  },
  {
   "cell_type": "code",
   "execution_count": 13,
   "metadata": {},
   "outputs": [],
   "source": [
    "answers = []\n",
    "cnt = 0\n",
    "for records in dataset:\n",
    "    answers.append(records[1].numpy())\n",
    "answers = np.hstack(answers)"
   ]
  },
  {
   "cell_type": "code",
   "execution_count": 14,
   "metadata": {},
   "outputs": [
    {
     "data": {
      "text/plain": [
       "(10000,)"
      ]
     },
     "execution_count": 14,
     "metadata": {},
     "output_type": "execute_result"
    }
   ],
   "source": [
    "answers.shape"
   ]
  },
  {
   "cell_type": "code",
   "execution_count": 15,
   "metadata": {},
   "outputs": [
    {
     "name": "stdout",
     "output_type": "stream",
     "text": [
      "test accuracy: 0.9136\n"
     ]
    }
   ],
   "source": [
    "print('test accuracy:', np.mean(answers == preds))"
   ]
  },
  {
   "cell_type": "markdown",
   "metadata": {},
   "source": [
    "# Make KD dataset"
   ]
  },
  {
   "cell_type": "code",
   "execution_count": 6,
   "metadata": {},
   "outputs": [],
   "source": [
    "all_files = config['train_data_files'] + config['valid_data_file'] + config['sample_data_file'] + config['test_data_file']"
   ]
  },
  {
   "cell_type": "code",
   "execution_count": null,
   "metadata": {},
   "outputs": [],
   "source": []
  },
  {
   "cell_type": "code",
   "execution_count": 7,
   "metadata": {},
   "outputs": [],
   "source": [
    "WIDTH = 32\n",
    "HEIGHT = 32\n",
    "RGB_MEAN = [125.31, 122.95, 113.87]\n",
    "RGB_STD = [62.99, 62.09, 66.70]"
   ]
  },
  {
   "cell_type": "code",
   "execution_count": 8,
   "metadata": {},
   "outputs": [],
   "source": [
    "def _preprocess(image):\n",
    "  \"\"\"Perform standard CIFAR preprocessing.\n",
    "\n",
    "  Pads the image then performs a random crop.\n",
    "  Then, image is flipped horizontally randomly.\n",
    "\n",
    "  Args:\n",
    "    image: image Tensor with shape [height, width, 3]\n",
    "\n",
    "  Returns:\n",
    "    preprocessed image with the same dimensions.\n",
    "  \"\"\"\n",
    "  # Pad 4 pixels on all sides with 0\n",
    "  image = tf.image.resize_image_with_crop_or_pad(\n",
    "      image, HEIGHT + 8, WIDTH + 8)\n",
    "\n",
    "  # Random crop\n",
    "  image = tf.random_crop(image, [HEIGHT, WIDTH, 3], seed=0)\n",
    "\n",
    "  # Random flip\n",
    "  image = tf.image.random_flip_left_right(image, seed=0)\n",
    "\n",
    "  return image\n",
    "\n",
    "\n",
    "def _parser(use_preprocessing, serialized_example):\n",
    "  \"\"\"Parses a single tf.Example into image and label tensors.\"\"\"\n",
    "  features = tf.parse_single_example(\n",
    "      serialized_example,\n",
    "      features={\n",
    "          'image': tf.FixedLenFeature([], tf.string),\n",
    "          'label': tf.FixedLenFeature([], tf.int64),\n",
    "      })\n",
    "  image = tf.decode_raw(features['image'], tf.uint8)\n",
    "  image.set_shape([3 * HEIGHT * WIDTH])\n",
    "  image = tf.reshape(image, [3, HEIGHT, WIDTH])\n",
    "  # TODO(chrisying): handle NCHW format\n",
    "  image = tf.transpose(image, [1, 2, 0])\n",
    "  image = tf.cast(image, tf.float32)\n",
    "  if use_preprocessing:\n",
    "    image = _preprocess(image)\n",
    "  image -= tf.constant(RGB_MEAN, shape=[1, 1, 3])\n",
    "  image /= tf.constant(RGB_STD, shape=[1, 1, 3])\n",
    "  label = tf.cast(features['label'], tf.int32)\n",
    "  return image, label"
   ]
  },
  {
   "cell_type": "code",
   "execution_count": 9,
   "metadata": {},
   "outputs": [],
   "source": [
    "def _set_batch_dimension(batch_size, images, labels):\n",
    "    images.set_shape(images.get_shape().merge_with(\n",
    "      tf.TensorShape([batch_size, None, None, None])))\n",
    "    labels.set_shape(labels.get_shape().merge_with(\n",
    "      tf.TensorShape([batch_size])))\n",
    "\n",
    "    return images, labels\n"
   ]
  },
  {
   "cell_type": "code",
   "execution_count": 10,
   "metadata": {},
   "outputs": [],
   "source": [
    "def _dummy_imput_fn(params):\n",
    "    batch_size = params['batch_size']\n",
    "    dataset = tf.data.TFRecordDataset(params['file'])\n",
    "    dataset = dataset.prefetch(buffer_size=batch_size)\n",
    "\n",
    "   \n",
    "   # Parse, preprocess, and batch images\n",
    "    parser_fn = functools.partial(_parser, False)\n",
    "    dataset = dataset.apply(\n",
    "        tf.contrib.data.map_and_batch(\n",
    "            parser_fn,\n",
    "            batch_size=batch_size,\n",
    "            num_parallel_batches=None,\n",
    "            drop_remainder=True))\n",
    "\n",
    "    # Assign static batch size dimension\n",
    "    dataset = dataset.map(functools.partial(_set_batch_dimension, batch_size))\n",
    "\n",
    "    # Prefetch to overlap in-feed with training\n",
    "    dataset = dataset.prefetch(tf.contrib.data.AUTOTUNE)\n",
    "    \n",
    "\n",
    "    return dataset"
   ]
  },
  {
   "cell_type": "code",
   "execution_count": 12,
   "metadata": {},
   "outputs": [
    {
     "name": "stdout",
     "output_type": "stream",
     "text": [
      "INFO:tensorflow:Using config: {'_model_dir': '../my_model_dir', '_tf_random_seed': None, '_save_summary_steps': 100, '_save_checkpoints_steps': None, '_save_checkpoints_secs': 600, '_session_config': allow_soft_placement: true\n",
      "graph_options {\n",
      "  rewrite_options {\n",
      "    meta_optimizer_iterations: ONE\n",
      "  }\n",
      "}\n",
      ", '_keep_checkpoint_max': 5, '_keep_checkpoint_every_n_hours': 10000, '_log_step_count_steps': None, '_train_distribute': None, '_device_fn': None, '_protocol': None, '_eval_distribute': None, '_experimental_distribute': None, '_service': None, '_cluster_spec': <tensorflow.python.training.server_lib.ClusterSpec object at 0x7f971b655898>, '_task_type': 'worker', '_task_id': 0, '_global_id_in_cluster': 0, '_master': '', '_evaluation_master': '', '_is_chief': True, '_num_ps_replicas': 0, '_num_worker_replicas': 1, '_tpu_config': TPUConfig(iterations_per_loop=2, num_shards=None, num_cores_per_replica=None, per_host_input_for_training=2, tpu_job_name=None, initial_infeed_sleep_secs=None, input_partition_dims=None), '_cluster': None}\n",
      "INFO:tensorflow:_TPUContext: eval_on_tpu True\n",
      "WARNING:tensorflow:eval_on_tpu ignored because use_tpu is False.\n",
      "INFO:tensorflow:Calling model_fn.\n",
      "INFO:tensorflow:Running infer on CPU\n",
      "INFO:tensorflow:vertex_channels: [128, 32, 32, 32, 32, 32, 128]\n",
      "INFO:tensorflow:vertex_channels: [128, 32, 32, 32, 32, 32, 128]\n",
      "INFO:tensorflow:vertex_channels: [128, 32, 32, 32, 32, 32, 128]\n",
      "INFO:tensorflow:vertex_channels: [128, 64, 64, 64, 64, 64, 256]\n",
      "INFO:tensorflow:vertex_channels: [256, 64, 64, 64, 64, 64, 256]\n",
      "INFO:tensorflow:vertex_channels: [256, 64, 64, 64, 64, 64, 256]\n",
      "INFO:tensorflow:vertex_channels: [256, 128, 128, 128, 128, 128, 512]\n",
      "INFO:tensorflow:vertex_channels: [512, 128, 128, 128, 128, 128, 512]\n",
      "INFO:tensorflow:vertex_channels: [512, 128, 128, 128, 128, 128, 512]\n",
      "INFO:tensorflow:Done calling model_fn.\n",
      "INFO:tensorflow:Graph was finalized.\n",
      "INFO:tensorflow:Restoring parameters from ../my_model_dir/model.ckpt-5625\n",
      "INFO:tensorflow:Running local_init_op.\n",
      "INFO:tensorflow:Done running local_init_op.\n",
      "INFO:tensorflow:prediction_loop marked as finished\n",
      "INFO:tensorflow:prediction_loop marked as finished\n",
      "INFO:tensorflow:Using config: {'_model_dir': '../my_model_dir', '_tf_random_seed': None, '_save_summary_steps': 100, '_save_checkpoints_steps': None, '_save_checkpoints_secs': 600, '_session_config': allow_soft_placement: true\n",
      "graph_options {\n",
      "  rewrite_options {\n",
      "    meta_optimizer_iterations: ONE\n",
      "  }\n",
      "}\n",
      ", '_keep_checkpoint_max': 5, '_keep_checkpoint_every_n_hours': 10000, '_log_step_count_steps': None, '_train_distribute': None, '_device_fn': None, '_protocol': None, '_eval_distribute': None, '_experimental_distribute': None, '_service': None, '_cluster_spec': <tensorflow.python.training.server_lib.ClusterSpec object at 0x7f97390d7390>, '_task_type': 'worker', '_task_id': 0, '_global_id_in_cluster': 0, '_master': '', '_evaluation_master': '', '_is_chief': True, '_num_ps_replicas': 0, '_num_worker_replicas': 1, '_tpu_config': TPUConfig(iterations_per_loop=2, num_shards=None, num_cores_per_replica=None, per_host_input_for_training=2, tpu_job_name=None, initial_infeed_sleep_secs=None, input_partition_dims=None), '_cluster': None}\n",
      "INFO:tensorflow:_TPUContext: eval_on_tpu True\n",
      "WARNING:tensorflow:eval_on_tpu ignored because use_tpu is False.\n",
      "INFO:tensorflow:Calling model_fn.\n",
      "INFO:tensorflow:Running infer on CPU\n",
      "INFO:tensorflow:vertex_channels: [128, 32, 32, 32, 32, 32, 128]\n",
      "INFO:tensorflow:vertex_channels: [128, 32, 32, 32, 32, 32, 128]\n",
      "INFO:tensorflow:vertex_channels: [128, 32, 32, 32, 32, 32, 128]\n",
      "INFO:tensorflow:vertex_channels: [128, 64, 64, 64, 64, 64, 256]\n",
      "INFO:tensorflow:vertex_channels: [256, 64, 64, 64, 64, 64, 256]\n",
      "INFO:tensorflow:vertex_channels: [256, 64, 64, 64, 64, 64, 256]\n",
      "INFO:tensorflow:vertex_channels: [256, 128, 128, 128, 128, 128, 512]\n",
      "INFO:tensorflow:vertex_channels: [512, 128, 128, 128, 128, 128, 512]\n",
      "INFO:tensorflow:vertex_channels: [512, 128, 128, 128, 128, 128, 512]\n",
      "INFO:tensorflow:Done calling model_fn.\n",
      "INFO:tensorflow:Graph was finalized.\n",
      "INFO:tensorflow:Restoring parameters from ../my_model_dir/model.ckpt-5625\n",
      "INFO:tensorflow:Running local_init_op.\n",
      "INFO:tensorflow:Done running local_init_op.\n",
      "INFO:tensorflow:prediction_loop marked as finished\n",
      "INFO:tensorflow:prediction_loop marked as finished\n",
      "INFO:tensorflow:Using config: {'_model_dir': '../my_model_dir', '_tf_random_seed': None, '_save_summary_steps': 100, '_save_checkpoints_steps': None, '_save_checkpoints_secs': 600, '_session_config': allow_soft_placement: true\n",
      "graph_options {\n",
      "  rewrite_options {\n",
      "    meta_optimizer_iterations: ONE\n",
      "  }\n",
      "}\n",
      ", '_keep_checkpoint_max': 5, '_keep_checkpoint_every_n_hours': 10000, '_log_step_count_steps': None, '_train_distribute': None, '_device_fn': None, '_protocol': None, '_eval_distribute': None, '_experimental_distribute': None, '_service': None, '_cluster_spec': <tensorflow.python.training.server_lib.ClusterSpec object at 0x7f977461e780>, '_task_type': 'worker', '_task_id': 0, '_global_id_in_cluster': 0, '_master': '', '_evaluation_master': '', '_is_chief': True, '_num_ps_replicas': 0, '_num_worker_replicas': 1, '_tpu_config': TPUConfig(iterations_per_loop=2, num_shards=None, num_cores_per_replica=None, per_host_input_for_training=2, tpu_job_name=None, initial_infeed_sleep_secs=None, input_partition_dims=None), '_cluster': None}\n",
      "INFO:tensorflow:_TPUContext: eval_on_tpu True\n",
      "WARNING:tensorflow:eval_on_tpu ignored because use_tpu is False.\n",
      "INFO:tensorflow:Calling model_fn.\n",
      "INFO:tensorflow:Running infer on CPU\n",
      "INFO:tensorflow:vertex_channels: [128, 32, 32, 32, 32, 32, 128]\n",
      "INFO:tensorflow:vertex_channels: [128, 32, 32, 32, 32, 32, 128]\n",
      "INFO:tensorflow:vertex_channels: [128, 32, 32, 32, 32, 32, 128]\n",
      "INFO:tensorflow:vertex_channels: [128, 64, 64, 64, 64, 64, 256]\n",
      "INFO:tensorflow:vertex_channels: [256, 64, 64, 64, 64, 64, 256]\n",
      "INFO:tensorflow:vertex_channels: [256, 64, 64, 64, 64, 64, 256]\n",
      "INFO:tensorflow:vertex_channels: [256, 128, 128, 128, 128, 128, 512]\n",
      "INFO:tensorflow:vertex_channels: [512, 128, 128, 128, 128, 128, 512]\n",
      "INFO:tensorflow:vertex_channels: [512, 128, 128, 128, 128, 128, 512]\n",
      "INFO:tensorflow:Done calling model_fn.\n",
      "INFO:tensorflow:Graph was finalized.\n",
      "INFO:tensorflow:Restoring parameters from ../my_model_dir/model.ckpt-5625\n",
      "INFO:tensorflow:Running local_init_op.\n",
      "INFO:tensorflow:Done running local_init_op.\n",
      "INFO:tensorflow:prediction_loop marked as finished\n",
      "INFO:tensorflow:prediction_loop marked as finished\n",
      "INFO:tensorflow:Using config: {'_model_dir': '../my_model_dir', '_tf_random_seed': None, '_save_summary_steps': 100, '_save_checkpoints_steps': None, '_save_checkpoints_secs': 600, '_session_config': allow_soft_placement: true\n",
      "graph_options {\n",
      "  rewrite_options {\n",
      "    meta_optimizer_iterations: ONE\n",
      "  }\n",
      "}\n",
      ", '_keep_checkpoint_max': 5, '_keep_checkpoint_every_n_hours': 10000, '_log_step_count_steps': None, '_train_distribute': None, '_device_fn': None, '_protocol': None, '_eval_distribute': None, '_experimental_distribute': None, '_service': None, '_cluster_spec': <tensorflow.python.training.server_lib.ClusterSpec object at 0x7f9738d7d780>, '_task_type': 'worker', '_task_id': 0, '_global_id_in_cluster': 0, '_master': '', '_evaluation_master': '', '_is_chief': True, '_num_ps_replicas': 0, '_num_worker_replicas': 1, '_tpu_config': TPUConfig(iterations_per_loop=2, num_shards=None, num_cores_per_replica=None, per_host_input_for_training=2, tpu_job_name=None, initial_infeed_sleep_secs=None, input_partition_dims=None), '_cluster': None}\n",
      "INFO:tensorflow:_TPUContext: eval_on_tpu True\n",
      "WARNING:tensorflow:eval_on_tpu ignored because use_tpu is False.\n",
      "INFO:tensorflow:Calling model_fn.\n",
      "INFO:tensorflow:Running infer on CPU\n",
      "INFO:tensorflow:vertex_channels: [128, 32, 32, 32, 32, 32, 128]\n",
      "INFO:tensorflow:vertex_channels: [128, 32, 32, 32, 32, 32, 128]\n",
      "INFO:tensorflow:vertex_channels: [128, 32, 32, 32, 32, 32, 128]\n",
      "INFO:tensorflow:vertex_channels: [128, 64, 64, 64, 64, 64, 256]\n",
      "INFO:tensorflow:vertex_channels: [256, 64, 64, 64, 64, 64, 256]\n",
      "INFO:tensorflow:vertex_channels: [256, 64, 64, 64, 64, 64, 256]\n",
      "INFO:tensorflow:vertex_channels: [256, 128, 128, 128, 128, 128, 512]\n",
      "INFO:tensorflow:vertex_channels: [512, 128, 128, 128, 128, 128, 512]\n"
     ]
    },
    {
     "name": "stdout",
     "output_type": "stream",
     "text": [
      "INFO:tensorflow:vertex_channels: [512, 128, 128, 128, 128, 128, 512]\n",
      "INFO:tensorflow:Done calling model_fn.\n",
      "INFO:tensorflow:Graph was finalized.\n",
      "INFO:tensorflow:Restoring parameters from ../my_model_dir/model.ckpt-5625\n",
      "INFO:tensorflow:Running local_init_op.\n",
      "INFO:tensorflow:Done running local_init_op.\n",
      "INFO:tensorflow:prediction_loop marked as finished\n",
      "INFO:tensorflow:prediction_loop marked as finished\n",
      "INFO:tensorflow:Using config: {'_model_dir': '../my_model_dir', '_tf_random_seed': None, '_save_summary_steps': 100, '_save_checkpoints_steps': None, '_save_checkpoints_secs': 600, '_session_config': allow_soft_placement: true\n",
      "graph_options {\n",
      "  rewrite_options {\n",
      "    meta_optimizer_iterations: ONE\n",
      "  }\n",
      "}\n",
      ", '_keep_checkpoint_max': 5, '_keep_checkpoint_every_n_hours': 10000, '_log_step_count_steps': None, '_train_distribute': None, '_device_fn': None, '_protocol': None, '_eval_distribute': None, '_experimental_distribute': None, '_service': None, '_cluster_spec': <tensorflow.python.training.server_lib.ClusterSpec object at 0x7f97395a3710>, '_task_type': 'worker', '_task_id': 0, '_global_id_in_cluster': 0, '_master': '', '_evaluation_master': '', '_is_chief': True, '_num_ps_replicas': 0, '_num_worker_replicas': 1, '_tpu_config': TPUConfig(iterations_per_loop=2, num_shards=None, num_cores_per_replica=None, per_host_input_for_training=2, tpu_job_name=None, initial_infeed_sleep_secs=None, input_partition_dims=None), '_cluster': None}\n",
      "INFO:tensorflow:_TPUContext: eval_on_tpu True\n",
      "WARNING:tensorflow:eval_on_tpu ignored because use_tpu is False.\n",
      "INFO:tensorflow:Calling model_fn.\n",
      "INFO:tensorflow:Running infer on CPU\n",
      "INFO:tensorflow:vertex_channels: [128, 32, 32, 32, 32, 32, 128]\n",
      "INFO:tensorflow:vertex_channels: [128, 32, 32, 32, 32, 32, 128]\n",
      "INFO:tensorflow:vertex_channels: [128, 32, 32, 32, 32, 32, 128]\n",
      "INFO:tensorflow:vertex_channels: [128, 64, 64, 64, 64, 64, 256]\n",
      "INFO:tensorflow:vertex_channels: [256, 64, 64, 64, 64, 64, 256]\n",
      "INFO:tensorflow:vertex_channels: [256, 64, 64, 64, 64, 64, 256]\n",
      "INFO:tensorflow:vertex_channels: [256, 128, 128, 128, 128, 128, 512]\n",
      "INFO:tensorflow:vertex_channels: [512, 128, 128, 128, 128, 128, 512]\n",
      "INFO:tensorflow:vertex_channels: [512, 128, 128, 128, 128, 128, 512]\n",
      "INFO:tensorflow:Done calling model_fn.\n",
      "INFO:tensorflow:Graph was finalized.\n",
      "INFO:tensorflow:Restoring parameters from ../my_model_dir/model.ckpt-5625\n",
      "INFO:tensorflow:Running local_init_op.\n",
      "INFO:tensorflow:Done running local_init_op.\n",
      "INFO:tensorflow:prediction_loop marked as finished\n",
      "INFO:tensorflow:prediction_loop marked as finished\n",
      "INFO:tensorflow:Using config: {'_model_dir': '../my_model_dir', '_tf_random_seed': None, '_save_summary_steps': 100, '_save_checkpoints_steps': None, '_save_checkpoints_secs': 600, '_session_config': allow_soft_placement: true\n",
      "graph_options {\n",
      "  rewrite_options {\n",
      "    meta_optimizer_iterations: ONE\n",
      "  }\n",
      "}\n",
      ", '_keep_checkpoint_max': 5, '_keep_checkpoint_every_n_hours': 10000, '_log_step_count_steps': None, '_train_distribute': None, '_device_fn': None, '_protocol': None, '_eval_distribute': None, '_experimental_distribute': None, '_service': None, '_cluster_spec': <tensorflow.python.training.server_lib.ClusterSpec object at 0x7f9774729710>, '_task_type': 'worker', '_task_id': 0, '_global_id_in_cluster': 0, '_master': '', '_evaluation_master': '', '_is_chief': True, '_num_ps_replicas': 0, '_num_worker_replicas': 1, '_tpu_config': TPUConfig(iterations_per_loop=2, num_shards=None, num_cores_per_replica=None, per_host_input_for_training=2, tpu_job_name=None, initial_infeed_sleep_secs=None, input_partition_dims=None), '_cluster': None}\n",
      "INFO:tensorflow:_TPUContext: eval_on_tpu True\n",
      "WARNING:tensorflow:eval_on_tpu ignored because use_tpu is False.\n",
      "INFO:tensorflow:Calling model_fn.\n",
      "INFO:tensorflow:Running infer on CPU\n",
      "INFO:tensorflow:vertex_channels: [128, 32, 32, 32, 32, 32, 128]\n",
      "INFO:tensorflow:vertex_channels: [128, 32, 32, 32, 32, 32, 128]\n",
      "INFO:tensorflow:vertex_channels: [128, 32, 32, 32, 32, 32, 128]\n",
      "INFO:tensorflow:vertex_channels: [128, 64, 64, 64, 64, 64, 256]\n",
      "INFO:tensorflow:vertex_channels: [256, 64, 64, 64, 64, 64, 256]\n",
      "INFO:tensorflow:vertex_channels: [256, 64, 64, 64, 64, 64, 256]\n",
      "INFO:tensorflow:vertex_channels: [256, 128, 128, 128, 128, 128, 512]\n",
      "INFO:tensorflow:vertex_channels: [512, 128, 128, 128, 128, 128, 512]\n",
      "INFO:tensorflow:vertex_channels: [512, 128, 128, 128, 128, 128, 512]\n",
      "INFO:tensorflow:Done calling model_fn.\n",
      "INFO:tensorflow:Graph was finalized.\n",
      "INFO:tensorflow:Restoring parameters from ../my_model_dir/model.ckpt-5625\n",
      "INFO:tensorflow:Running local_init_op.\n",
      "INFO:tensorflow:Done running local_init_op.\n",
      "INFO:tensorflow:prediction_loop marked as finished\n",
      "INFO:tensorflow:prediction_loop marked as finished\n",
      "INFO:tensorflow:Using config: {'_model_dir': '../my_model_dir', '_tf_random_seed': None, '_save_summary_steps': 100, '_save_checkpoints_steps': None, '_save_checkpoints_secs': 600, '_session_config': allow_soft_placement: true\n",
      "graph_options {\n",
      "  rewrite_options {\n",
      "    meta_optimizer_iterations: ONE\n",
      "  }\n",
      "}\n",
      ", '_keep_checkpoint_max': 5, '_keep_checkpoint_every_n_hours': 10000, '_log_step_count_steps': None, '_train_distribute': None, '_device_fn': None, '_protocol': None, '_eval_distribute': None, '_experimental_distribute': None, '_service': None, '_cluster_spec': <tensorflow.python.training.server_lib.ClusterSpec object at 0x7f97395f57b8>, '_task_type': 'worker', '_task_id': 0, '_global_id_in_cluster': 0, '_master': '', '_evaluation_master': '', '_is_chief': True, '_num_ps_replicas': 0, '_num_worker_replicas': 1, '_tpu_config': TPUConfig(iterations_per_loop=2, num_shards=None, num_cores_per_replica=None, per_host_input_for_training=2, tpu_job_name=None, initial_infeed_sleep_secs=None, input_partition_dims=None), '_cluster': None}\n",
      "INFO:tensorflow:_TPUContext: eval_on_tpu True\n",
      "WARNING:tensorflow:eval_on_tpu ignored because use_tpu is False.\n",
      "INFO:tensorflow:Calling model_fn.\n",
      "INFO:tensorflow:Running infer on CPU\n",
      "INFO:tensorflow:vertex_channels: [128, 32, 32, 32, 32, 32, 128]\n",
      "INFO:tensorflow:vertex_channels: [128, 32, 32, 32, 32, 32, 128]\n",
      "INFO:tensorflow:vertex_channels: [128, 32, 32, 32, 32, 32, 128]\n",
      "INFO:tensorflow:vertex_channels: [128, 64, 64, 64, 64, 64, 256]\n",
      "INFO:tensorflow:vertex_channels: [256, 64, 64, 64, 64, 64, 256]\n",
      "INFO:tensorflow:vertex_channels: [256, 64, 64, 64, 64, 64, 256]\n",
      "INFO:tensorflow:vertex_channels: [256, 128, 128, 128, 128, 128, 512]\n",
      "INFO:tensorflow:vertex_channels: [512, 128, 128, 128, 128, 128, 512]\n",
      "INFO:tensorflow:vertex_channels: [512, 128, 128, 128, 128, 128, 512]\n",
      "INFO:tensorflow:Done calling model_fn.\n",
      "INFO:tensorflow:Graph was finalized.\n",
      "INFO:tensorflow:Restoring parameters from ../my_model_dir/model.ckpt-5625\n",
      "INFO:tensorflow:Running local_init_op.\n",
      "INFO:tensorflow:Done running local_init_op.\n",
      "INFO:tensorflow:prediction_loop marked as finished\n",
      "INFO:tensorflow:prediction_loop marked as finished\n"
     ]
    }
   ],
   "source": [
    "for file in all_files:\n",
    "#for file in ['sample.tfrecords']:\n",
    "    raw_dataset = tf.data.TFRecordDataset([file])\n",
    "    params = {'file':file, 'use_KD':False}\n",
    "    est = tf.contrib.tpu.TPUEstimator(\n",
    "          use_tpu=False,\n",
    "          model_fn=model_builder.build_model_fn(spec, config, None),\n",
    "          config=run_config,\n",
    "          params=params,\n",
    "          train_batch_size=config['batch_size'],\n",
    "          eval_batch_size=config['batch_size'],\n",
    "          predict_batch_size=100)\n",
    "\n",
    "\n",
    "    est_preds = est.predict(input_fn=_dummy_imput_fn, yield_single_examples=False)\n",
    "\n",
    "    all_pred_logits_aug = []\n",
    "    for preds in est_preds:\n",
    "        all_pred_logits_aug.append(preds['logits'])\n",
    "    all_pred_logits_aug = np.vstack(all_pred_logits_aug)\n",
    "\n",
    "    out_file = file.replace('.', '_KD.')\n",
    "\n",
    "    with tf.python_io.TFRecordWriter(out_file) as record_writer:\n",
    "        i = 0\n",
    "        for raw_record in raw_dataset:\n",
    "            example = tf.train.Example()\n",
    "            example.ParseFromString(raw_record.numpy())\n",
    "            img = example.features.feature['image']\n",
    "            label = example.features.feature['label']\n",
    "            preds = all_pred_logits_aug[i]\n",
    "            new_label = np.hstack((label.int64_list.value[0], preds))\n",
    "            feat_preds = tf.train.Feature(float_list=tf.train.FloatList(value=new_label))\n",
    "            example = tf.train.Example(features=tf.train.Features(\n",
    "                      feature={\n",
    "                          'image': img,\n",
    "                          'label': feat_preds\n",
    "                      }))\n",
    "            record_writer.write(example.SerializeToString())\n",
    "            i += 1\n",
    "            break"
   ]
  },
  {
   "cell_type": "code",
   "execution_count": 13,
   "metadata": {},
   "outputs": [],
   "source": [
    "logits = tf.convert_to_tensor(np.random.rand(64, 10))"
   ]
  },
  {
   "cell_type": "code",
   "execution_count": 15,
   "metadata": {},
   "outputs": [
    {
     "data": {
      "text/plain": [
       "TensorShape([Dimension(64), Dimension(10)])"
      ]
     },
     "execution_count": 15,
     "metadata": {},
     "output_type": "execute_result"
    }
   ],
   "source": [
    "logits.shape"
   ]
  },
  {
   "cell_type": "code",
   "execution_count": 16,
   "metadata": {},
   "outputs": [],
   "source": [
    "labels = tf.convert_to_tensor(np.random.rand(64, 11))"
   ]
  },
  {
   "cell_type": "code",
   "execution_count": 17,
   "metadata": {},
   "outputs": [],
   "source": [
    "loss_soft = tf.keras.losses.KLD(\n",
    "            tf.math.log_softmax(logits),\n",
    "            tf.math.softmax(labels[:, 1:])\n",
    "        )"
   ]
  },
  {
   "cell_type": "code",
   "execution_count": 23,
   "metadata": {},
   "outputs": [
    {
     "data": {
      "text/plain": [
       "<tf.Tensor: id=51902, shape=(), dtype=float64, numpy=-1.3775526343693923e-05>"
      ]
     },
     "execution_count": 23,
     "metadata": {},
     "output_type": "execute_result"
    }
   ],
   "source": [
    "tf.math.reduce_mean(loss_soft)"
   ]
  },
  {
   "cell_type": "code",
   "execution_count": 21,
   "metadata": {},
   "outputs": [],
   "source": [
    "loss_ce = tf.losses.softmax_cross_entropy(\n",
    "            onehot_labels=tf.one_hot(tf.dtypes.cast(labels[:, 0], tf.int32), config['num_labels']),\n",
    "            logits=logits)"
   ]
  },
  {
   "cell_type": "code",
   "execution_count": 22,
   "metadata": {},
   "outputs": [
    {
     "data": {
      "text/plain": [
       "<tf.Tensor: id=51899, shape=(), dtype=float64, numpy=2.3803083896636963>"
      ]
     },
     "execution_count": 22,
     "metadata": {},
     "output_type": "execute_result"
    }
   ],
   "source": [
    "loss_ce"
   ]
  },
  {
   "cell_type": "code",
   "execution_count": null,
   "metadata": {},
   "outputs": [],
   "source": []
  },
  {
   "cell_type": "code",
   "execution_count": null,
   "metadata": {},
   "outputs": [],
   "source": []
  },
  {
   "cell_type": "code",
   "execution_count": 17,
   "metadata": {},
   "outputs": [
    {
     "data": {
      "text/plain": [
       "[]"
      ]
     },
     "execution_count": 17,
     "metadata": {},
     "output_type": "execute_result"
    }
   ],
   "source": [
    "all_pred_logits_aug"
   ]
  },
  {
   "cell_type": "code",
   "execution_count": 61,
   "metadata": {},
   "outputs": [],
   "source": [
    "se = example.SerializeToString()"
   ]
  },
  {
   "cell_type": "code",
   "execution_count": 62,
   "metadata": {},
   "outputs": [],
   "source": [
    "tse = tf.convert_to_tensor(se)"
   ]
  },
  {
   "cell_type": "code",
   "execution_count": 63,
   "metadata": {},
   "outputs": [
    {
     "data": {
      "text/plain": [
       "<tf.Tensor: id=151873, shape=(), dtype=string, numpy=b'\\n\\xce\\x18\\n\\x90\\x18\\n\\x05image\\x12\\x86\\x18\\n\\x83\\x18\\n\\x80\\x18\\xe5\\xec\\xea\\xe7\\xec\\xf2\\xf6\\xf6\\xf2\\xec\\xe8\\xe8\\xe9\\xe8\\xe3\\xdc\\xd6\\xd2\\xd0\\xd0\\xd2\\xd4\\xd4\\xd5\\xd7\\xd8\\xdc\\xd9\\xd6\\xd9\\xdd\\xde\\xde\\xef\\xe9\\xe8\\xea\\xf0\\xf4\\xf4\\xf0\\xe9\\xe6\\xe5\\xe6\\xe4\\xde\\xd8\\xd4\\xd2\\xd1\\xd2\\xd3\\xd5\\xd7\\xd8\\xd9\\xd6\\xdd\\xdc\\xdc\\xdf\\xe3\\xd2\\xd5\\xea\\xe7\\xe6\\xe7\\xe8\\xea\\xea\\xe6\\xe2\\xe1\\xe2\\xdf\\xdc\\xd6\\xd0\\xcc\\xcd\\xcf\\xd0\\xd2\\xd6\\xd3\\xd3\\xd5\\xd3\\xda\\xd1\\xd4\\xdc\\xdc\\xca\\xa0\\xb0\\xbc\\xc5\\xd1\\xdd\\xe4\\xe6\\xe6\\xe6\\xe6\\xe5\\xe1\\xdc\\xd7\\xd0\\xcd\\xd2\\xd3\\xd5\\xd4\\xc5\\xbb\\xca\\xd6\\xd1\\xdd\\xc0\\xc7\\xd8\\xd3\\xd0\\x88\\x89\\x92\\x8c\\x81\\x8c\\x99\\xaa\\xba\\xc1\\xd9\\xe6\\xe4\\xe3\\xd7\\xce\\xd8\\xde\\xdb\\xda\\xd3\\xb1\\xa5\\xbf\\xd7\\xd0\\xd9\\xbc\\xc4\\xcd\\xc9\\xcci\\xaa\\xce\\xa6~\\x84\\x82il\\x80\\x8b\\x9f\\xae\\xbd\\xb3\\xbb\\xd9\\xdf\\xd7\\xd3\\xca\\xaa\\x92\\xb2\\xc2\\xbc\\xbd\\xa0\\xa8\\xad\\xae\\xbc^\\xa9\\xbe\\xaaLv\\x9dw~\\x8dx\\x91\\x93\\x90\\x88\\x82\\x92\\xb7\\xb4\\xad\\xb4\\x90_\\xaa\\xa2\\x9a\\xaa\\x8e\\x98\\xa4\\xa6\\xae\\x86\\xbb\\xb1\\xa6Dq\\x9f\\x9b\\x9eqU\\x94\\xa1\\x92\\xa1\\x81s\\x8e\\xab\\xb1\\xbd\\x86F\\xb1\\xa6\\x8b\\xb4\\xb0\\xae\\xae\\xaf\\xadu\\xcd\\xea\\xb4\\x95\\x9a\\x9b\\x9c\\x96q^}\\x86w\\x84qo\\x83\\x8e\\x96\\xa0zF\\x8d\\x89s\\x9a\\x9a\\x9a\\x99\\x98\\x95X\\xb4\\xf2\\xb6\\x9e\\xa1\\x9f\\xa2\\x85gxwlLAHLOQQ_cMkk^x~\\x7f}zvQ\\x84\\xb3\\x89owrxr~\\xa5\\xa0vH4:==8<IdgkaTny}|xu^WV3/L2,\\\\\\x93\\xac\\x9ecTGB=:CDHdaKVXgx|qdt|\\x7f{;8?+\\'Z\\x8f\\xa9\\x8dWUPH&!DHFXR*IU_mto]f\\x85\\x89\\x96raRUdw\\x92\\xad\\x88[VYD&-EFE:*$?KMR]bZS\\x91\\x8f\\x90\\x8d\\x8a\\x89\\x88\\x89\\x87\\x87\\x93\\x90RFK\\x1b+2\\'%)6Nbx\\x85\\x80c\\\\[WW\\x8d\\x8d\\x8b\\x85\\x81}{ytdN8\\x15\\r\\x13\\x1cQf^VK_\\x90\\xa7\\xa8\\xa8\\xa9\\x95\\x89~ob\\x86{z{|z{{vkV:,(B\\x82\\xa5\\xae\\xb0\\xad\\xaa\\xbb\\xc1\\xc3\\xc1\\xbc\\xbb\\xb7\\xb7\\xa3zQ\\x82{|}\\x82\\x88\\x8b\\x8c\\x8d\\x96\\xa4\\xb9\\xad\\x8cqiccgox\\x89\\x9f\\xaf\\xc2\\xc4\\xb9\\xaa\\x83Q(\\x1e~~|}\\x8b\\xa7\\xb8\\x9c\\x8a\\x8d\\x95\\xad\\x9bmqrijmiWcnt\\x95\\xc4\\xd0\\x94:\\x13\\x16\\x1a}xuz\\x87\\x9c\\xb1\\xa3\\x9d\\xa0\\x97}ehpminti\\\\vzzy\\x97\\xd0\\xb9Y\\x1f\\x1c\\x16wv}\\x86\\x96\\xa9\\xb3\\xb5\\xb5\\x9bgP^gmjfjo\\\\\\\\{~\\x82\\x83\\x82\\xa0\\xcc\\xa9U&\\x16{{\\x7f\\x8a\\x9d\\xb0\\xb6\\xc4\\xa8O+(+0BWfebP]v{qw\\x82\\x88\\xb1\\xd5\\xa6@\\x14|zy}\\x88\\x9e\\xbc\\xab\\x92VWD\\'\\x10\\x12\\x1d-Q]E_ka^m{|\\x92\\xba\\xd8\\x8e5uvzmbJ\\x9d\\xae\\xa1\\xa0\\x97\\x9a\\x93k:\\x14\\x04$N@SKXegmx|\\x8e\\xca\\xd7||{\\x7fr>Fs\\x9f\\x9b\\xa2\\xa6\\xa8\\xaa\\xb2\\xaf\\x8dT\\',\\'\\'K_dfdlsz\\x90\\xe4\\xc7|yy\\x83glnn\\x90\\x94\\x9d\\xa3\\xaa\\xad\\xad\\xb3\\xb7\\x9fx]]WLPW^`]gu\\xbd\\xf4v}}\\x7ftsuHz\\x86\\x8e\\x97\\xa0\\xa7\\xb0\\xaf\\xac\\xb0\\xb2\\xb6\\xa5\\x8foJENU[ik\\xb3\\xff\\x86\\x8b\\x89y_is.Ws{\\x89\\x90\\x98\\xa2\\xa6\\xad\\xac\\xa7\\xb1\\xb8\\xbb\\xb7\\xac\\x94rgnu\\x88\\xdc\\xff\\x96\\x93\\x8f\\x8ayle\\x1b8hkr\\x7f\\x8a\\x90\\x9a\\xaa\\xa8\\xaa\\xb7\\xb6\\xb3\\xb7\\xbb\\xbc\\xbf\\xbb\\xac\\xae\\xda\\xfa\\xfd\\x96\\x8c\\x84\\x84\\x84}U\\x16\\x1bDeiiu\\x85\\x8a\\x91\\x96\\x99\\xa6\\xad\\xb5\\xb8\\xb5\\xb7\\xb8\\xb7\\xc3\\xd8\\xe0\\xe6\\xf1\\x89\\x82}||\\x80mMGJU`hio\\x80\\x88\\x88\\x8c\\x97\\x9d\\xa3\\xaa\\xb3\\xb8\\xb8\\xb7\\xb6\\xaf\\xb5\\xca\\xd4zvxxy}xqfYWFOijit~~\\x87\\x8d\\x92\\x97\\x9b\\xa1\\xaa\\xb2\\xb3\\xb4\\xb3\\xa4\\xa3\\xe5\\xed\\xec\\xea\\xed\\xf2\\xf5\\xf5\\xf1\\xec\\xe8\\xe8\\xe9\\xe7\\xe3\\xde\\xd9\\xd6\\xd4\\xd4\\xd5\\xd7\\xda\\xda\\xdb\\xda\\xde\\xdc\\xd8\\xdb\\xdf\\xdf\\xdd\\xef\\xea\\xe9\\xeb\\xf0\\xf4\\xf3\\xef\\xeb\\xe7\\xe7\\xe7\\xe4\\xdf\\xda\\xd7\\xd6\\xd5\\xd5\\xd6\\xd8\\xdc\\xdd\\xdb\\xd8\\xde\\xde\\xdd\\xdf\\xe4\\xd3\\xce\\xe8\\xe9\\xea\\xe9\\xea\\xea\\xea\\xe8\\xe5\\xe3\\xe3\\xe2\\xdd\\xd8\\xd4\\xd1\\xd3\\xd3\\xd4\\xd5\\xd9\\xd8\\xd7\\xd7\\xd4\\xdb\\xd2\\xd4\\xdc\\xdb\\xcbj\\x86\\xa5\\xb7\\xc4\\xd3\\xdc\\xe3\\xe7\\xe8\\xe8\\xe6\\xe2\\xde\\xd9\\xd2\\xcf\\xd5\\xd5\\xd7\\xd6\\xc8\\xbe\\xcc\\xd7\\xd3\\xde\\xc0\\xc8\\xda\\xd4\\xd3ccy{p{\\x85\\x9d\\xb5\\xb5\\xd2\\xe8\\xe5\\xe4\\xd9\\xd0\\xd9\\xdd\\xdb\\xda\\xd3\\xb2\\xa8\\xc2\\xd8\\xd2\\xdc\\xbe\\xc8\\xd4\\xcf\\xd0e\\xa3\\xca\\xa5|~y`es\\x83\\x9f\\xad\\xbb\\xb3\\xbd\\xda\\xdc\\xd6\\xd5\\xca\\xa6\\x90\\xa5\\xb2\\xa6\\xa2\\x8c\\x8b\\x84{}U\\xa4\\xbf\\xaaLu\\x9evz\\x8cx\\x8e\\x90\\x8a\\x85|\\x8d\\x9do]XNAHJGB:<><?\\x7f\\xba\\xb2\\xa5Dp\\x9e\\x99\\x9dfR\\x95\\x94\\x85\\x9e|ha8=:5+641336988n\\xcb\\xe8\\xb3\\x94\\x99\\x9a\\x9d\\x90ZY|u`o^GFIqYI8A>8=>A?><N\\xb3\\xef\\xb3\\x9c\\xa0\\x9e\\xa7pHtn_F8;;=<;=MCXTDX`a_\\\\YH\\x80\\xaf\\x85mvq|Q@|{hC*-/0./.6>DH=P_bca\\\\ZRQ/,K2.+(\\\\Z9@-\"&#\\x1e\\x1f\\x1c*\\x1e\\x1d<<K]^[UZwxw85<*$\\x1f/X?\\x0c&\\x15\\x08\\x13\\x0c\\x05\\x06\\x0f2\\x19\\x16<<F[`\\\\SV\\x80\\x83\\x92o^MR\\\\Sk\\x85P\\x16\\x1e\\x1a\\x14\\x1a (&/0\\x18\\x1eB>>Ydd`X\\x8c\\x8b\\x8d\\x8a\\x86\\x84\\x83\\x84\\x80~\\x8a}=:=\\x10\\x15#$ &6N\\\\s}zgbb^^\\x89\\x89\\x87\\x82}wvrm_G4\\x15\\x0c\\x13\\x1cI`]TJ_\\x8d\\x9c\\x99\\x99\\x94\\x81~wqk\\x82wwxyvvwrhR4(%A\\x83\\xa7\\xad\\xae\\xaa\\xaa\\xba\\xc0\\xc2\\xc0\\xba\\xba\\xb9\\xb5\\xa1vP~xyz~\\x83\\x86\\x86\\x87\\x8e\\x9e\\xb2\\xa2\\x88uqljnsx\\x89\\x9e\\xae\\xc0\\xc4\\xba\\xac\\x84R)\\x1c{{yz\\x86\\xa1\\xb3\\x97\\x82\\x81\\x86\\xa6\\x98q{|stwp\\\\itz\\x97\\xc3\\xcd\\x92:\\x15\\x19\\x1cyurw\\x84\\x99\\xae\\xa1\\x97\\x95\\x88yjpwtquzm_~\\x84\\x85\\x82\\x9a\\xce\\xb7X \\x1d\\x16ssy\\x81\\x94\\xa8\\xb1\\xb4\\xb4\\x9aeTfkqplns^_\\x82\\x86\\x8a\\x8d\\x89\\xa0\\xca\\xa7V&\\x15xx|\\x81\\x96\\xaf\\xb3\\xc0\\xa9Z//11E[higRb|\\x81w\\x80\\x8b\\x8d\\xaf\\xd2\\xa5>\\x13yvvu\\x80\\x9b\\xb7\\xa7\\x93]YM.\\x11\\x13\\x1d.UbHbofdv\\x85\\x86\\x92\\xb8\\xd6\\x8b4rtvd^E\\x99\\xac\\x9e\\x9d\\x94\\x9c\\x96m<\\x16\\x04&QCXP\\\\kov\\x80\\x82\\x8f\\xc9\\xd5|xw{n:>n\\x9b\\x98\\x9f\\xa3\\xa4\\xa5\\xaf\\xae\\x8eV(.,,Rhkjjqy{\\x90\\xe4\\xc6yvv\\x7fedij\\x8c\\x8f\\x99\\x9f\\xa7\\xa9\\xa8\\xb0\\xb5\\x9ezbWVQV_gifnt\\xbd\\xf4qyyyplpDu\\x81\\x8a\\x92\\x9a\\xa2\\xaa\\xaa\\xa7\\xaa\\xae\\xb2\\xa4\\x8foLIR[cok\\xb5\\xff\\x80\\x85\\x81sXal)Snv\\x82\\x89\\x92\\x9d\\xa1\\xa8\\xa7\\xa5\\xad\\xb4\\xb8\\xb5\\xac\\x93sipw\\x8a\\xde\\xff\\x90\\x8d\\x87\\x83pd^\\x185bely\\x84\\x8a\\x94\\xa4\\xa2\\xa4\\xb2\\xb1\\xaf\\xb4\\xb8\\xb9\\xbe\\xb9\\xaa\\xaf\\xda\\xfa\\xfc\\x8f\\x87\\x7f~|vQ\\x15\\x1aA`ddp\\x7f\\x84\\x8c\\x90\\x94\\xa0\\xa8\\xb1\\xb3\\xb0\\xb2\\xb5\\xb4\\xc0\\xd5\\xde\\xe4\\xf1\\x84\\x7fywvzhKEFQ]ddk{\\x84\\x84\\x87\\x90\\x98\\x9e\\xa5\\xaf\\xb4\\xb4\\xb5\\xb4\\xad\\xb4\\xc9\\xd3wttttxrlbVSCLefeozz\\x82\\x87\\x8d\\x93\\x98\\x9d\\xa7\\xb0\\xb1\\xb2\\xb1\\xa4\\xa3\\xef\\xf7\\xf7\\xf6\\xf7\\xf9\\xfb\\xfa\\xf8\\xf4\\xf2\\xf1\\xf1\\xef\\xec\\xe8\\xe4\\xe2\\xe0\\xe1\\xe4\\xe6\\xe8\\xeb\\xec\\xe8\\xec\\xea\\xe7\\xe9\\xea\\xe9\\xe5\\xf9\\xf6\\xf6\\xf6\\xf8\\xfa\\xf9\\xf7\\xf4\\xf2\\xf0\\xef\\xee\\xea\\xe6\\xe3\\xe2\\xe1\\xe2\\xe5\\xe7\\xeb\\xed\\xea\\xe4\\xea\\xea\\xea\\xec\\xee\\xdc\\xd3\\xef\\xf4\\xf5\\xf4\\xf4\\xf3\\xf2\\xf1\\xef\\xed\\xec\\xea\\xe8\\xe5\\xe0\\xdd\\xdf\\xe0\\xe1\\xe4\\xe7\\xe7\\xe6\\xe4\\xe0\\xe7\\xde\\xe1\\xe8\\xe8\\xd7r\\x8c\\xac\\xbd\\xca\\xdb\\xe3\\xea\\xf0\\xf0\\xef\\xef\\xeb\\xe9\\xe4\\xde\\xdb\\xe0\\xe1\\xe3\\xe2\\xd4\\xcb\\xd9\\xe4\\xde\\xeb\\xcb\\xd3\\xe8\\xe2\\xe1gi}|r~\\x88\\xa1\\xba\\xbb\\xd8\\xef\\xec\\xec\\xdf\\xd7\\xe1\\xe6\\xe4\\xe5\\xe0\\xbb\\xb0\\xcd\\xe4\\xde\\xe9\\xc8\\xd3\\xe0\\xda\\xdd^\\xa1\\xca\\xa2z{vagr\\x82\\x9f\\xae\\xbf\\xb7\\xc1\\xe0\\xe3\\xdf\\xe0\\xd5\\xab\\x91\\xae\\xbd\\xb0\\xaa\\x93\\x94\\x8c\\x82\\x83J\\xa2\\xbf\\xa7Jr\\x97pv\\x8av\\x8b\\x8d\\x89\\x81{\\x91\\x9do`\\\\E/GHE@:;<:=|\\xbc\\xb0\\xa2Cm\\x98\\x92\\x95gT\\x92\\x91\\x80\\x95yh\\\\064 \\x170*+)*-/12f\\xc4\\xe1\\xad\\x90\\x94\\x95\\x97\\x8aYYys^n_IHHn]?*11./48876H\\xac\\xe6\\xad\\x97\\x9b\\x99\\xa0nFqk^D6;<==>>M?CC5BMOOLHE{\\xa9\\x81jrmyP=yxiC(.//,..:>=<-:KNQOJTMM-*G.,+([Y9=,$&#\\x1f\\x1f\\x1b*\\x1e 1)4IKJJHoqm108(#\\x1e-U?\\x10%\\x17\\x0f\\x17\\r\\x08\\x08\\x10.\\x1c\\x12(\\'-BJIGGy|\\x8aiYKQZL]xJ\\x18\\x1e\\x1b\\x18\\x1b\\x1f%#+\\'\\x17\\x15$%!,4864\\x89\\x87\\x88\\x86\\x82\\x80\\x80\\x80yt~u86;\\x10\\x18#! &2IUcmc>34/0\\x87\\x85\\x82}xsrlfXB3\\x18\\x0e\\x14\\x1dJ_YQH]\\x8a\\x99\\x98\\x95\\x92xi]M<\\x7fsrstpqql`K2($@\\x84\\xa8\\xad\\xb0\\xad\\xae\\xbe\\xc5\\xc6\\xc3\\xc1\\xc1\\xc1\\xbd\\xa4p=zstuy~\\x81\\x80\\x7f\\x84\\x95\\xa9\\x93\\x80wsnlot{\\x8c\\x9e\\xaf\\xc2\\xc6\\xbe\\xaf\\x86Q&\\x18wvtu\\x80\\x9b\\xaf\\x90yx\\x7f\\x9d\\x92pz~vuxr_mw{\\x98\\xc2\\xcc\\x947\\x0b\\x10\\x14upms~\\x92\\xaa\\x9c\\x92\\x91\\x85uhouvtw|pc\\x81\\x88\\x88\\x84\\x9a\\xcd\\xb8U\\x18\\x14\\x0cons}\\x8e\\xa0\\xac\\xaf\\xaf\\x98eRbknnlotac\\x84\\x88\\x8c\\x8e\\x8b\\xa2\\xca\\xa6U \\nrtvy\\x8c\\xa8\\xae\\xba\\xa7_4441CXgigUd}\\x82x\\x80\\x8d\\x8e\\xaf\\xd1\\xa5<\\x0etqrou\\x97\\xb3\\x9d\\x8d^ZQ5\\x13\\x12\\x1c.UdKbnfeu\\x86\\x86\\x95\\xb9\\xd4\\x8b3moo\\\\YB\\x95\\xa3\\x93\\x92\\x8c\\x93\\x91l=\\x17\\x06\\'SFXO[jox\\x83\\x84\\x91\\xc8\\xd4\\x80sstf:8g\\x92\\x8b\\x93\\x97\\x98\\x9b\\xa6\\xaa\\x8dW+/,,Sikkltz}\\x91\\xe3\\xc8uqqx_[bb\\x7f\\x85\\x8d\\x94\\x9b\\x9e\\x9f\\xa8\\xaf\\x9ay`VWRV_hkhpz\\xbf\\xf3mttriehClu~\\x86\\x8e\\x96\\x9f\\xa0\\xa2\\xa5\\xa6\\xad\\x9f\\x8doMJU^fsq\\xb6\\xffy}ykT\\\\c(Mfmx|\\x85\\x90\\x97\\xa2\\xa0\\x9c\\xa7\\xad\\xb2\\xb1\\xa9\\x91sjsz\\x8b\\xdd\\xff\\x86\\x84}xh\\\\X\\x182[^fnw}\\x88\\x99\\x97\\x99\\xa7\\xa9\\xa8\\xaf\\xb4\\xb5\\xbb\\xb8\\xa9\\xac\\xd7\\xf8\\xfb\\x87\\x7fxvsnL\\x16\\x1a=YZ]htx\\x7f\\x84\\x89\\x95\\x9d\\xa7\\xac\\xab\\xae\\xb2\\xb2\\xbd\\xd0\\xda\\xe1\\xee~xsqmpaFA@JW[\\\\ctyx{\\x86\\x8d\\x93\\x9b\\xa6\\xad\\xae\\xb0\\xb1\\xaa\\xb2\\xc6\\xcfrnonloke\\\\OK?E]\\\\\\\\isnw}\\x83\\x88\\x8d\\x93\\x9e\\xa8\\xab\\xae\\xad\\xa2\\xa1\\n9\\n\\x05label\\x120\\x12.\\n,\\x00\\x00\\x80?\\xe0\\x91MA\\x92\\x16\\x02AD\\xe0}\\xc0{\\xd6\\x1b\\xc0\\xf4\\xc8\\x05\\xc1\\xb1\\x1c\\xa3\\xc0#`\\xc3\\xc0\\xc0R\\x1b\\xc0\\x03G\\x9c@`\\xddG@'>"
      ]
     },
     "execution_count": 63,
     "metadata": {},
     "output_type": "execute_result"
    }
   ],
   "source": [
    "tse"
   ]
  },
  {
   "cell_type": "code",
   "execution_count": 60,
   "metadata": {},
   "outputs": [
    {
     "ename": "InvalidArgumentError",
     "evalue": "Key: label.  Can't parse serialized Example. [Op:ParseSingleExample]",
     "output_type": "error",
     "traceback": [
      "\u001b[0;31m---------------------------------------------------------------------------\u001b[0m",
      "\u001b[0;31mInvalidArgumentError\u001b[0m                      Traceback (most recent call last)",
      "\u001b[0;32m<ipython-input-60-e5e774e52d38>\u001b[0m in \u001b[0;36m<module>\u001b[0;34m\u001b[0m\n\u001b[1;32m      3\u001b[0m       features={\n\u001b[1;32m      4\u001b[0m           \u001b[0;34m'image'\u001b[0m\u001b[0;34m:\u001b[0m \u001b[0mtf\u001b[0m\u001b[0;34m.\u001b[0m\u001b[0mFixedLenFeature\u001b[0m\u001b[0;34m(\u001b[0m\u001b[0;34m[\u001b[0m\u001b[0;34m]\u001b[0m\u001b[0;34m,\u001b[0m \u001b[0mtf\u001b[0m\u001b[0;34m.\u001b[0m\u001b[0mstring\u001b[0m\u001b[0;34m)\u001b[0m\u001b[0;34m,\u001b[0m\u001b[0;34m\u001b[0m\u001b[0;34m\u001b[0m\u001b[0m\n\u001b[0;32m----> 5\u001b[0;31m           \u001b[0;34m'label'\u001b[0m\u001b[0;34m:\u001b[0m \u001b[0mtf\u001b[0m\u001b[0;34m.\u001b[0m\u001b[0mFixedLenFeature\u001b[0m\u001b[0;34m(\u001b[0m\u001b[0;34m[\u001b[0m\u001b[0;36m11\u001b[0m\u001b[0;34m]\u001b[0m\u001b[0;34m,\u001b[0m \u001b[0mtf\u001b[0m\u001b[0;34m.\u001b[0m\u001b[0mfloat32\u001b[0m\u001b[0;34m)\u001b[0m\u001b[0;34m,\u001b[0m\u001b[0;34m\u001b[0m\u001b[0;34m\u001b[0m\u001b[0m\n\u001b[0m\u001b[1;32m      6\u001b[0m       })\n",
      "\u001b[0;32m~/miniconda3/envs/tf_nasbench/lib/python3.6/site-packages/tensorflow/python/ops/parsing_ops.py\u001b[0m in \u001b[0;36mparse_single_example\u001b[0;34m(serialized, features, name, example_names)\u001b[0m\n\u001b[1;32m    799\u001b[0m     \u001b[0;32mraise\u001b[0m \u001b[0mValueError\u001b[0m\u001b[0;34m(\u001b[0m\u001b[0;34m\"Missing features.\"\u001b[0m\u001b[0;34m)\u001b[0m\u001b[0;34m\u001b[0m\u001b[0;34m\u001b[0m\u001b[0m\n\u001b[1;32m    800\u001b[0m   \u001b[0;32mif\u001b[0m \u001b[0mexample_names\u001b[0m \u001b[0;32mis\u001b[0m \u001b[0;32mNone\u001b[0m\u001b[0;34m:\u001b[0m\u001b[0;34m\u001b[0m\u001b[0;34m\u001b[0m\u001b[0m\n\u001b[0;32m--> 801\u001b[0;31m     \u001b[0;32mreturn\u001b[0m \u001b[0mparse_single_example_v2\u001b[0m\u001b[0;34m(\u001b[0m\u001b[0mserialized\u001b[0m\u001b[0;34m,\u001b[0m \u001b[0mfeatures\u001b[0m\u001b[0;34m,\u001b[0m \u001b[0mname\u001b[0m\u001b[0;34m)\u001b[0m\u001b[0;34m\u001b[0m\u001b[0;34m\u001b[0m\u001b[0m\n\u001b[0m\u001b[1;32m    802\u001b[0m   \u001b[0mfeatures\u001b[0m \u001b[0;34m=\u001b[0m \u001b[0m_prepend_none_dimension\u001b[0m\u001b[0;34m(\u001b[0m\u001b[0mfeatures\u001b[0m\u001b[0;34m)\u001b[0m\u001b[0;34m\u001b[0m\u001b[0;34m\u001b[0m\u001b[0m\n\u001b[1;32m    803\u001b[0m   (sparse_keys, sparse_types, dense_keys, dense_types, dense_defaults,\n",
      "\u001b[0;32m~/miniconda3/envs/tf_nasbench/lib/python3.6/site-packages/tensorflow/python/ops/parsing_ops.py\u001b[0m in \u001b[0;36mparse_single_example_v2\u001b[0;34m(serialized, features, name)\u001b[0m\n\u001b[1;32m   1690\u001b[0m   outputs = _parse_single_example_v2_raw(serialized, sparse_keys, sparse_types,\n\u001b[1;32m   1691\u001b[0m                                          \u001b[0mdense_keys\u001b[0m\u001b[0;34m,\u001b[0m \u001b[0mdense_types\u001b[0m\u001b[0;34m,\u001b[0m\u001b[0;34m\u001b[0m\u001b[0;34m\u001b[0m\u001b[0m\n\u001b[0;32m-> 1692\u001b[0;31m                                          dense_defaults, dense_shapes, name)\n\u001b[0m\u001b[1;32m   1693\u001b[0m   \u001b[0;32mreturn\u001b[0m \u001b[0m_construct_sparse_tensors_for_sparse_features\u001b[0m\u001b[0;34m(\u001b[0m\u001b[0mfeatures\u001b[0m\u001b[0;34m,\u001b[0m \u001b[0moutputs\u001b[0m\u001b[0;34m)\u001b[0m\u001b[0;34m\u001b[0m\u001b[0;34m\u001b[0m\u001b[0m\n\u001b[1;32m   1694\u001b[0m \u001b[0;34m\u001b[0m\u001b[0m\n",
      "\u001b[0;32m~/miniconda3/envs/tf_nasbench/lib/python3.6/site-packages/tensorflow/python/ops/parsing_ops.py\u001b[0m in \u001b[0;36m_parse_single_example_v2_raw\u001b[0;34m(serialized, sparse_keys, sparse_types, dense_keys, dense_types, dense_defaults, dense_shapes, name)\u001b[0m\n\u001b[1;32m   1807\u001b[0m         \u001b[0mdense_keys\u001b[0m\u001b[0;34m=\u001b[0m\u001b[0mdense_keys\u001b[0m\u001b[0;34m,\u001b[0m\u001b[0;34m\u001b[0m\u001b[0;34m\u001b[0m\u001b[0m\n\u001b[1;32m   1808\u001b[0m         \u001b[0mdense_shapes\u001b[0m\u001b[0;34m=\u001b[0m\u001b[0mdense_shapes\u001b[0m\u001b[0;34m,\u001b[0m\u001b[0;34m\u001b[0m\u001b[0;34m\u001b[0m\u001b[0m\n\u001b[0;32m-> 1809\u001b[0;31m         name=name)\n\u001b[0m\u001b[1;32m   1810\u001b[0m \u001b[0;34m\u001b[0m\u001b[0m\n\u001b[1;32m   1811\u001b[0m     \u001b[0;34m(\u001b[0m\u001b[0msparse_indices\u001b[0m\u001b[0;34m,\u001b[0m \u001b[0msparse_values\u001b[0m\u001b[0;34m,\u001b[0m \u001b[0msparse_shapes\u001b[0m\u001b[0;34m,\u001b[0m \u001b[0mdense_values\u001b[0m\u001b[0;34m)\u001b[0m \u001b[0;34m=\u001b[0m \u001b[0moutputs\u001b[0m\u001b[0;34m\u001b[0m\u001b[0;34m\u001b[0m\u001b[0m\n",
      "\u001b[0;32m~/miniconda3/envs/tf_nasbench/lib/python3.6/site-packages/tensorflow/python/ops/gen_parsing_ops.py\u001b[0m in \u001b[0;36mparse_single_example\u001b[0;34m(serialized, dense_defaults, num_sparse, sparse_keys, dense_keys, sparse_types, dense_shapes, name)\u001b[0m\n\u001b[1;32m   1039\u001b[0m           \u001b[0msparse_keys\u001b[0m\u001b[0;34m=\u001b[0m\u001b[0msparse_keys\u001b[0m\u001b[0;34m,\u001b[0m \u001b[0mdense_keys\u001b[0m\u001b[0;34m=\u001b[0m\u001b[0mdense_keys\u001b[0m\u001b[0;34m,\u001b[0m\u001b[0;34m\u001b[0m\u001b[0;34m\u001b[0m\u001b[0m\n\u001b[1;32m   1040\u001b[0m           \u001b[0msparse_types\u001b[0m\u001b[0;34m=\u001b[0m\u001b[0msparse_types\u001b[0m\u001b[0;34m,\u001b[0m \u001b[0mdense_shapes\u001b[0m\u001b[0;34m=\u001b[0m\u001b[0mdense_shapes\u001b[0m\u001b[0;34m,\u001b[0m \u001b[0mname\u001b[0m\u001b[0;34m=\u001b[0m\u001b[0mname\u001b[0m\u001b[0;34m,\u001b[0m\u001b[0;34m\u001b[0m\u001b[0;34m\u001b[0m\u001b[0m\n\u001b[0;32m-> 1041\u001b[0;31m           ctx=_ctx)\n\u001b[0m\u001b[1;32m   1042\u001b[0m     \u001b[0;32mexcept\u001b[0m \u001b[0m_core\u001b[0m\u001b[0;34m.\u001b[0m\u001b[0m_NotOkStatusException\u001b[0m \u001b[0;32mas\u001b[0m \u001b[0me\u001b[0m\u001b[0;34m:\u001b[0m\u001b[0;34m\u001b[0m\u001b[0;34m\u001b[0m\u001b[0m\n\u001b[1;32m   1043\u001b[0m       \u001b[0;32mif\u001b[0m \u001b[0mname\u001b[0m \u001b[0;32mis\u001b[0m \u001b[0;32mnot\u001b[0m \u001b[0;32mNone\u001b[0m\u001b[0;34m:\u001b[0m\u001b[0;34m\u001b[0m\u001b[0;34m\u001b[0m\u001b[0m\n",
      "\u001b[0;32m~/miniconda3/envs/tf_nasbench/lib/python3.6/site-packages/tensorflow/python/ops/gen_parsing_ops.py\u001b[0m in \u001b[0;36mparse_single_example_eager_fallback\u001b[0;34m(serialized, dense_defaults, num_sparse, sparse_keys, dense_keys, sparse_types, dense_shapes, name, ctx)\u001b[0m\n\u001b[1;32m   1083\u001b[0m                              \u001b[0mlen\u001b[0m\u001b[0;34m(\u001b[0m\u001b[0msparse_types\u001b[0m\u001b[0;34m)\u001b[0m \u001b[0;34m+\u001b[0m \u001b[0mnum_sparse\u001b[0m \u001b[0;34m+\u001b[0m\u001b[0;34m\u001b[0m\u001b[0;34m\u001b[0m\u001b[0m\n\u001b[1;32m   1084\u001b[0m                              \u001b[0mlen\u001b[0m\u001b[0;34m(\u001b[0m\u001b[0mdense_defaults\u001b[0m\u001b[0;34m)\u001b[0m\u001b[0;34m,\u001b[0m \u001b[0minputs\u001b[0m\u001b[0;34m=\u001b[0m\u001b[0m_inputs_flat\u001b[0m\u001b[0;34m,\u001b[0m\u001b[0;34m\u001b[0m\u001b[0;34m\u001b[0m\u001b[0m\n\u001b[0;32m-> 1085\u001b[0;31m                              attrs=_attrs, ctx=_ctx, name=name)\n\u001b[0m\u001b[1;32m   1086\u001b[0m   _execute.record_gradient(\n\u001b[1;32m   1087\u001b[0m       \"ParseSingleExample\", _inputs_flat, _attrs, _result, name)\n",
      "\u001b[0;32m~/miniconda3/envs/tf_nasbench/lib/python3.6/site-packages/tensorflow/python/eager/execute.py\u001b[0m in \u001b[0;36mquick_execute\u001b[0;34m(op_name, num_outputs, inputs, attrs, ctx, name)\u001b[0m\n\u001b[1;32m     64\u001b[0m     \u001b[0;32melse\u001b[0m\u001b[0;34m:\u001b[0m\u001b[0;34m\u001b[0m\u001b[0;34m\u001b[0m\u001b[0m\n\u001b[1;32m     65\u001b[0m       \u001b[0mmessage\u001b[0m \u001b[0;34m=\u001b[0m \u001b[0me\u001b[0m\u001b[0;34m.\u001b[0m\u001b[0mmessage\u001b[0m\u001b[0;34m\u001b[0m\u001b[0;34m\u001b[0m\u001b[0m\n\u001b[0;32m---> 66\u001b[0;31m     \u001b[0msix\u001b[0m\u001b[0;34m.\u001b[0m\u001b[0mraise_from\u001b[0m\u001b[0;34m(\u001b[0m\u001b[0mcore\u001b[0m\u001b[0;34m.\u001b[0m\u001b[0m_status_to_exception\u001b[0m\u001b[0;34m(\u001b[0m\u001b[0me\u001b[0m\u001b[0;34m.\u001b[0m\u001b[0mcode\u001b[0m\u001b[0;34m,\u001b[0m \u001b[0mmessage\u001b[0m\u001b[0;34m)\u001b[0m\u001b[0;34m,\u001b[0m \u001b[0;32mNone\u001b[0m\u001b[0;34m)\u001b[0m\u001b[0;34m\u001b[0m\u001b[0;34m\u001b[0m\u001b[0m\n\u001b[0m\u001b[1;32m     67\u001b[0m   \u001b[0;31m# pylint: enable=protected-access\u001b[0m\u001b[0;34m\u001b[0m\u001b[0;34m\u001b[0m\u001b[0;34m\u001b[0m\u001b[0m\n\u001b[1;32m     68\u001b[0m   \u001b[0;32mreturn\u001b[0m \u001b[0mtensors\u001b[0m\u001b[0;34m\u001b[0m\u001b[0;34m\u001b[0m\u001b[0m\n",
      "\u001b[0;32m~/miniconda3/envs/tf_nasbench/lib/python3.6/site-packages/six.py\u001b[0m in \u001b[0;36mraise_from\u001b[0;34m(value, from_value)\u001b[0m\n",
      "\u001b[0;31mInvalidArgumentError\u001b[0m: Key: label.  Can't parse serialized Example. [Op:ParseSingleExample]"
     ]
    }
   ],
   "source": [
    "features = tf.parse_single_example(\n",
    "      tse,\n",
    "      features={\n",
    "          'image': tf.FixedLenFeature([], tf.string),\n",
    "          'label': tf.FixedLenFeature([11], tf.float32),\n",
    "      })\n"
   ]
  },
  {
   "cell_type": "code",
   "execution_count": 55,
   "metadata": {},
   "outputs": [
    {
     "data": {
      "text/plain": [
       "{'image': <tf.Tensor: id=151864, shape=(), dtype=string, numpy=b'\\xe5\\xec\\xea\\xe7\\xec\\xf2\\xf6\\xf6\\xf2\\xec\\xe8\\xe8\\xe9\\xe8\\xe3\\xdc\\xd6\\xd2\\xd0\\xd0\\xd2\\xd4\\xd4\\xd5\\xd7\\xd8\\xdc\\xd9\\xd6\\xd9\\xdd\\xde\\xde\\xef\\xe9\\xe8\\xea\\xf0\\xf4\\xf4\\xf0\\xe9\\xe6\\xe5\\xe6\\xe4\\xde\\xd8\\xd4\\xd2\\xd1\\xd2\\xd3\\xd5\\xd7\\xd8\\xd9\\xd6\\xdd\\xdc\\xdc\\xdf\\xe3\\xd2\\xd5\\xea\\xe7\\xe6\\xe7\\xe8\\xea\\xea\\xe6\\xe2\\xe1\\xe2\\xdf\\xdc\\xd6\\xd0\\xcc\\xcd\\xcf\\xd0\\xd2\\xd6\\xd3\\xd3\\xd5\\xd3\\xda\\xd1\\xd4\\xdc\\xdc\\xca\\xa0\\xb0\\xbc\\xc5\\xd1\\xdd\\xe4\\xe6\\xe6\\xe6\\xe6\\xe5\\xe1\\xdc\\xd7\\xd0\\xcd\\xd2\\xd3\\xd5\\xd4\\xc5\\xbb\\xca\\xd6\\xd1\\xdd\\xc0\\xc7\\xd8\\xd3\\xd0\\x88\\x89\\x92\\x8c\\x81\\x8c\\x99\\xaa\\xba\\xc1\\xd9\\xe6\\xe4\\xe3\\xd7\\xce\\xd8\\xde\\xdb\\xda\\xd3\\xb1\\xa5\\xbf\\xd7\\xd0\\xd9\\xbc\\xc4\\xcd\\xc9\\xcci\\xaa\\xce\\xa6~\\x84\\x82il\\x80\\x8b\\x9f\\xae\\xbd\\xb3\\xbb\\xd9\\xdf\\xd7\\xd3\\xca\\xaa\\x92\\xb2\\xc2\\xbc\\xbd\\xa0\\xa8\\xad\\xae\\xbc^\\xa9\\xbe\\xaaLv\\x9dw~\\x8dx\\x91\\x93\\x90\\x88\\x82\\x92\\xb7\\xb4\\xad\\xb4\\x90_\\xaa\\xa2\\x9a\\xaa\\x8e\\x98\\xa4\\xa6\\xae\\x86\\xbb\\xb1\\xa6Dq\\x9f\\x9b\\x9eqU\\x94\\xa1\\x92\\xa1\\x81s\\x8e\\xab\\xb1\\xbd\\x86F\\xb1\\xa6\\x8b\\xb4\\xb0\\xae\\xae\\xaf\\xadu\\xcd\\xea\\xb4\\x95\\x9a\\x9b\\x9c\\x96q^}\\x86w\\x84qo\\x83\\x8e\\x96\\xa0zF\\x8d\\x89s\\x9a\\x9a\\x9a\\x99\\x98\\x95X\\xb4\\xf2\\xb6\\x9e\\xa1\\x9f\\xa2\\x85gxwlLAHLOQQ_cMkk^x~\\x7f}zvQ\\x84\\xb3\\x89owrxr~\\xa5\\xa0vH4:==8<IdgkaTny}|xu^WV3/L2,\\\\\\x93\\xac\\x9ecTGB=:CDHdaKVXgx|qdt|\\x7f{;8?+\\'Z\\x8f\\xa9\\x8dWUPH&!DHFXR*IU_mto]f\\x85\\x89\\x96raRUdw\\x92\\xad\\x88[VYD&-EFE:*$?KMR]bZS\\x91\\x8f\\x90\\x8d\\x8a\\x89\\x88\\x89\\x87\\x87\\x93\\x90RFK\\x1b+2\\'%)6Nbx\\x85\\x80c\\\\[WW\\x8d\\x8d\\x8b\\x85\\x81}{ytdN8\\x15\\r\\x13\\x1cQf^VK_\\x90\\xa7\\xa8\\xa8\\xa9\\x95\\x89~ob\\x86{z{|z{{vkV:,(B\\x82\\xa5\\xae\\xb0\\xad\\xaa\\xbb\\xc1\\xc3\\xc1\\xbc\\xbb\\xb7\\xb7\\xa3zQ\\x82{|}\\x82\\x88\\x8b\\x8c\\x8d\\x96\\xa4\\xb9\\xad\\x8cqiccgox\\x89\\x9f\\xaf\\xc2\\xc4\\xb9\\xaa\\x83Q(\\x1e~~|}\\x8b\\xa7\\xb8\\x9c\\x8a\\x8d\\x95\\xad\\x9bmqrijmiWcnt\\x95\\xc4\\xd0\\x94:\\x13\\x16\\x1a}xuz\\x87\\x9c\\xb1\\xa3\\x9d\\xa0\\x97}ehpminti\\\\vzzy\\x97\\xd0\\xb9Y\\x1f\\x1c\\x16wv}\\x86\\x96\\xa9\\xb3\\xb5\\xb5\\x9bgP^gmjfjo\\\\\\\\{~\\x82\\x83\\x82\\xa0\\xcc\\xa9U&\\x16{{\\x7f\\x8a\\x9d\\xb0\\xb6\\xc4\\xa8O+(+0BWfebP]v{qw\\x82\\x88\\xb1\\xd5\\xa6@\\x14|zy}\\x88\\x9e\\xbc\\xab\\x92VWD\\'\\x10\\x12\\x1d-Q]E_ka^m{|\\x92\\xba\\xd8\\x8e5uvzmbJ\\x9d\\xae\\xa1\\xa0\\x97\\x9a\\x93k:\\x14\\x04$N@SKXegmx|\\x8e\\xca\\xd7||{\\x7fr>Fs\\x9f\\x9b\\xa2\\xa6\\xa8\\xaa\\xb2\\xaf\\x8dT\\',\\'\\'K_dfdlsz\\x90\\xe4\\xc7|yy\\x83glnn\\x90\\x94\\x9d\\xa3\\xaa\\xad\\xad\\xb3\\xb7\\x9fx]]WLPW^`]gu\\xbd\\xf4v}}\\x7ftsuHz\\x86\\x8e\\x97\\xa0\\xa7\\xb0\\xaf\\xac\\xb0\\xb2\\xb6\\xa5\\x8foJENU[ik\\xb3\\xff\\x86\\x8b\\x89y_is.Ws{\\x89\\x90\\x98\\xa2\\xa6\\xad\\xac\\xa7\\xb1\\xb8\\xbb\\xb7\\xac\\x94rgnu\\x88\\xdc\\xff\\x96\\x93\\x8f\\x8ayle\\x1b8hkr\\x7f\\x8a\\x90\\x9a\\xaa\\xa8\\xaa\\xb7\\xb6\\xb3\\xb7\\xbb\\xbc\\xbf\\xbb\\xac\\xae\\xda\\xfa\\xfd\\x96\\x8c\\x84\\x84\\x84}U\\x16\\x1bDeiiu\\x85\\x8a\\x91\\x96\\x99\\xa6\\xad\\xb5\\xb8\\xb5\\xb7\\xb8\\xb7\\xc3\\xd8\\xe0\\xe6\\xf1\\x89\\x82}||\\x80mMGJU`hio\\x80\\x88\\x88\\x8c\\x97\\x9d\\xa3\\xaa\\xb3\\xb8\\xb8\\xb7\\xb6\\xaf\\xb5\\xca\\xd4zvxxy}xqfYWFOijit~~\\x87\\x8d\\x92\\x97\\x9b\\xa1\\xaa\\xb2\\xb3\\xb4\\xb3\\xa4\\xa3\\xe5\\xed\\xec\\xea\\xed\\xf2\\xf5\\xf5\\xf1\\xec\\xe8\\xe8\\xe9\\xe7\\xe3\\xde\\xd9\\xd6\\xd4\\xd4\\xd5\\xd7\\xda\\xda\\xdb\\xda\\xde\\xdc\\xd8\\xdb\\xdf\\xdf\\xdd\\xef\\xea\\xe9\\xeb\\xf0\\xf4\\xf3\\xef\\xeb\\xe7\\xe7\\xe7\\xe4\\xdf\\xda\\xd7\\xd6\\xd5\\xd5\\xd6\\xd8\\xdc\\xdd\\xdb\\xd8\\xde\\xde\\xdd\\xdf\\xe4\\xd3\\xce\\xe8\\xe9\\xea\\xe9\\xea\\xea\\xea\\xe8\\xe5\\xe3\\xe3\\xe2\\xdd\\xd8\\xd4\\xd1\\xd3\\xd3\\xd4\\xd5\\xd9\\xd8\\xd7\\xd7\\xd4\\xdb\\xd2\\xd4\\xdc\\xdb\\xcbj\\x86\\xa5\\xb7\\xc4\\xd3\\xdc\\xe3\\xe7\\xe8\\xe8\\xe6\\xe2\\xde\\xd9\\xd2\\xcf\\xd5\\xd5\\xd7\\xd6\\xc8\\xbe\\xcc\\xd7\\xd3\\xde\\xc0\\xc8\\xda\\xd4\\xd3ccy{p{\\x85\\x9d\\xb5\\xb5\\xd2\\xe8\\xe5\\xe4\\xd9\\xd0\\xd9\\xdd\\xdb\\xda\\xd3\\xb2\\xa8\\xc2\\xd8\\xd2\\xdc\\xbe\\xc8\\xd4\\xcf\\xd0e\\xa3\\xca\\xa5|~y`es\\x83\\x9f\\xad\\xbb\\xb3\\xbd\\xda\\xdc\\xd6\\xd5\\xca\\xa6\\x90\\xa5\\xb2\\xa6\\xa2\\x8c\\x8b\\x84{}U\\xa4\\xbf\\xaaLu\\x9evz\\x8cx\\x8e\\x90\\x8a\\x85|\\x8d\\x9do]XNAHJGB:<><?\\x7f\\xba\\xb2\\xa5Dp\\x9e\\x99\\x9dfR\\x95\\x94\\x85\\x9e|ha8=:5+641336988n\\xcb\\xe8\\xb3\\x94\\x99\\x9a\\x9d\\x90ZY|u`o^GFIqYI8A>8=>A?><N\\xb3\\xef\\xb3\\x9c\\xa0\\x9e\\xa7pHtn_F8;;=<;=MCXTDX`a_\\\\YH\\x80\\xaf\\x85mvq|Q@|{hC*-/0./.6>DH=P_bca\\\\ZRQ/,K2.+(\\\\Z9@-\"&#\\x1e\\x1f\\x1c*\\x1e\\x1d<<K]^[UZwxw85<*$\\x1f/X?\\x0c&\\x15\\x08\\x13\\x0c\\x05\\x06\\x0f2\\x19\\x16<<F[`\\\\SV\\x80\\x83\\x92o^MR\\\\Sk\\x85P\\x16\\x1e\\x1a\\x14\\x1a (&/0\\x18\\x1eB>>Ydd`X\\x8c\\x8b\\x8d\\x8a\\x86\\x84\\x83\\x84\\x80~\\x8a}=:=\\x10\\x15#$ &6N\\\\s}zgbb^^\\x89\\x89\\x87\\x82}wvrm_G4\\x15\\x0c\\x13\\x1cI`]TJ_\\x8d\\x9c\\x99\\x99\\x94\\x81~wqk\\x82wwxyvvwrhR4(%A\\x83\\xa7\\xad\\xae\\xaa\\xaa\\xba\\xc0\\xc2\\xc0\\xba\\xba\\xb9\\xb5\\xa1vP~xyz~\\x83\\x86\\x86\\x87\\x8e\\x9e\\xb2\\xa2\\x88uqljnsx\\x89\\x9e\\xae\\xc0\\xc4\\xba\\xac\\x84R)\\x1c{{yz\\x86\\xa1\\xb3\\x97\\x82\\x81\\x86\\xa6\\x98q{|stwp\\\\itz\\x97\\xc3\\xcd\\x92:\\x15\\x19\\x1cyurw\\x84\\x99\\xae\\xa1\\x97\\x95\\x88yjpwtquzm_~\\x84\\x85\\x82\\x9a\\xce\\xb7X \\x1d\\x16ssy\\x81\\x94\\xa8\\xb1\\xb4\\xb4\\x9aeTfkqplns^_\\x82\\x86\\x8a\\x8d\\x89\\xa0\\xca\\xa7V&\\x15xx|\\x81\\x96\\xaf\\xb3\\xc0\\xa9Z//11E[higRb|\\x81w\\x80\\x8b\\x8d\\xaf\\xd2\\xa5>\\x13yvvu\\x80\\x9b\\xb7\\xa7\\x93]YM.\\x11\\x13\\x1d.UbHbofdv\\x85\\x86\\x92\\xb8\\xd6\\x8b4rtvd^E\\x99\\xac\\x9e\\x9d\\x94\\x9c\\x96m<\\x16\\x04&QCXP\\\\kov\\x80\\x82\\x8f\\xc9\\xd5|xw{n:>n\\x9b\\x98\\x9f\\xa3\\xa4\\xa5\\xaf\\xae\\x8eV(.,,Rhkjjqy{\\x90\\xe4\\xc6yvv\\x7fedij\\x8c\\x8f\\x99\\x9f\\xa7\\xa9\\xa8\\xb0\\xb5\\x9ezbWVQV_gifnt\\xbd\\xf4qyyyplpDu\\x81\\x8a\\x92\\x9a\\xa2\\xaa\\xaa\\xa7\\xaa\\xae\\xb2\\xa4\\x8foLIR[cok\\xb5\\xff\\x80\\x85\\x81sXal)Snv\\x82\\x89\\x92\\x9d\\xa1\\xa8\\xa7\\xa5\\xad\\xb4\\xb8\\xb5\\xac\\x93sipw\\x8a\\xde\\xff\\x90\\x8d\\x87\\x83pd^\\x185bely\\x84\\x8a\\x94\\xa4\\xa2\\xa4\\xb2\\xb1\\xaf\\xb4\\xb8\\xb9\\xbe\\xb9\\xaa\\xaf\\xda\\xfa\\xfc\\x8f\\x87\\x7f~|vQ\\x15\\x1aA`ddp\\x7f\\x84\\x8c\\x90\\x94\\xa0\\xa8\\xb1\\xb3\\xb0\\xb2\\xb5\\xb4\\xc0\\xd5\\xde\\xe4\\xf1\\x84\\x7fywvzhKEFQ]ddk{\\x84\\x84\\x87\\x90\\x98\\x9e\\xa5\\xaf\\xb4\\xb4\\xb5\\xb4\\xad\\xb4\\xc9\\xd3wttttxrlbVSCLefeozz\\x82\\x87\\x8d\\x93\\x98\\x9d\\xa7\\xb0\\xb1\\xb2\\xb1\\xa4\\xa3\\xef\\xf7\\xf7\\xf6\\xf7\\xf9\\xfb\\xfa\\xf8\\xf4\\xf2\\xf1\\xf1\\xef\\xec\\xe8\\xe4\\xe2\\xe0\\xe1\\xe4\\xe6\\xe8\\xeb\\xec\\xe8\\xec\\xea\\xe7\\xe9\\xea\\xe9\\xe5\\xf9\\xf6\\xf6\\xf6\\xf8\\xfa\\xf9\\xf7\\xf4\\xf2\\xf0\\xef\\xee\\xea\\xe6\\xe3\\xe2\\xe1\\xe2\\xe5\\xe7\\xeb\\xed\\xea\\xe4\\xea\\xea\\xea\\xec\\xee\\xdc\\xd3\\xef\\xf4\\xf5\\xf4\\xf4\\xf3\\xf2\\xf1\\xef\\xed\\xec\\xea\\xe8\\xe5\\xe0\\xdd\\xdf\\xe0\\xe1\\xe4\\xe7\\xe7\\xe6\\xe4\\xe0\\xe7\\xde\\xe1\\xe8\\xe8\\xd7r\\x8c\\xac\\xbd\\xca\\xdb\\xe3\\xea\\xf0\\xf0\\xef\\xef\\xeb\\xe9\\xe4\\xde\\xdb\\xe0\\xe1\\xe3\\xe2\\xd4\\xcb\\xd9\\xe4\\xde\\xeb\\xcb\\xd3\\xe8\\xe2\\xe1gi}|r~\\x88\\xa1\\xba\\xbb\\xd8\\xef\\xec\\xec\\xdf\\xd7\\xe1\\xe6\\xe4\\xe5\\xe0\\xbb\\xb0\\xcd\\xe4\\xde\\xe9\\xc8\\xd3\\xe0\\xda\\xdd^\\xa1\\xca\\xa2z{vagr\\x82\\x9f\\xae\\xbf\\xb7\\xc1\\xe0\\xe3\\xdf\\xe0\\xd5\\xab\\x91\\xae\\xbd\\xb0\\xaa\\x93\\x94\\x8c\\x82\\x83J\\xa2\\xbf\\xa7Jr\\x97pv\\x8av\\x8b\\x8d\\x89\\x81{\\x91\\x9do`\\\\E/GHE@:;<:=|\\xbc\\xb0\\xa2Cm\\x98\\x92\\x95gT\\x92\\x91\\x80\\x95yh\\\\064 \\x170*+)*-/12f\\xc4\\xe1\\xad\\x90\\x94\\x95\\x97\\x8aYYys^n_IHHn]?*11./48876H\\xac\\xe6\\xad\\x97\\x9b\\x99\\xa0nFqk^D6;<==>>M?CC5BMOOLHE{\\xa9\\x81jrmyP=yxiC(.//,..:>=<-:KNQOJTMM-*G.,+([Y9=,$&#\\x1f\\x1f\\x1b*\\x1e 1)4IKJJHoqm108(#\\x1e-U?\\x10%\\x17\\x0f\\x17\\r\\x08\\x08\\x10.\\x1c\\x12(\\'-BJIGGy|\\x8aiYKQZL]xJ\\x18\\x1e\\x1b\\x18\\x1b\\x1f%#+\\'\\x17\\x15$%!,4864\\x89\\x87\\x88\\x86\\x82\\x80\\x80\\x80yt~u86;\\x10\\x18#! &2IUcmc>34/0\\x87\\x85\\x82}xsrlfXB3\\x18\\x0e\\x14\\x1dJ_YQH]\\x8a\\x99\\x98\\x95\\x92xi]M<\\x7fsrstpqql`K2($@\\x84\\xa8\\xad\\xb0\\xad\\xae\\xbe\\xc5\\xc6\\xc3\\xc1\\xc1\\xc1\\xbd\\xa4p=zstuy~\\x81\\x80\\x7f\\x84\\x95\\xa9\\x93\\x80wsnlot{\\x8c\\x9e\\xaf\\xc2\\xc6\\xbe\\xaf\\x86Q&\\x18wvtu\\x80\\x9b\\xaf\\x90yx\\x7f\\x9d\\x92pz~vuxr_mw{\\x98\\xc2\\xcc\\x947\\x0b\\x10\\x14upms~\\x92\\xaa\\x9c\\x92\\x91\\x85uhouvtw|pc\\x81\\x88\\x88\\x84\\x9a\\xcd\\xb8U\\x18\\x14\\x0cons}\\x8e\\xa0\\xac\\xaf\\xaf\\x98eRbknnlotac\\x84\\x88\\x8c\\x8e\\x8b\\xa2\\xca\\xa6U \\nrtvy\\x8c\\xa8\\xae\\xba\\xa7_4441CXgigUd}\\x82x\\x80\\x8d\\x8e\\xaf\\xd1\\xa5<\\x0etqrou\\x97\\xb3\\x9d\\x8d^ZQ5\\x13\\x12\\x1c.UdKbnfeu\\x86\\x86\\x95\\xb9\\xd4\\x8b3moo\\\\YB\\x95\\xa3\\x93\\x92\\x8c\\x93\\x91l=\\x17\\x06\\'SFXO[jox\\x83\\x84\\x91\\xc8\\xd4\\x80sstf:8g\\x92\\x8b\\x93\\x97\\x98\\x9b\\xa6\\xaa\\x8dW+/,,Sikkltz}\\x91\\xe3\\xc8uqqx_[bb\\x7f\\x85\\x8d\\x94\\x9b\\x9e\\x9f\\xa8\\xaf\\x9ay`VWRV_hkhpz\\xbf\\xf3mttriehClu~\\x86\\x8e\\x96\\x9f\\xa0\\xa2\\xa5\\xa6\\xad\\x9f\\x8doMJU^fsq\\xb6\\xffy}ykT\\\\c(Mfmx|\\x85\\x90\\x97\\xa2\\xa0\\x9c\\xa7\\xad\\xb2\\xb1\\xa9\\x91sjsz\\x8b\\xdd\\xff\\x86\\x84}xh\\\\X\\x182[^fnw}\\x88\\x99\\x97\\x99\\xa7\\xa9\\xa8\\xaf\\xb4\\xb5\\xbb\\xb8\\xa9\\xac\\xd7\\xf8\\xfb\\x87\\x7fxvsnL\\x16\\x1a=YZ]htx\\x7f\\x84\\x89\\x95\\x9d\\xa7\\xac\\xab\\xae\\xb2\\xb2\\xbd\\xd0\\xda\\xe1\\xee~xsqmpaFA@JW[\\\\ctyx{\\x86\\x8d\\x93\\x9b\\xa6\\xad\\xae\\xb0\\xb1\\xaa\\xb2\\xc6\\xcfrnonloke\\\\OK?E]\\\\\\\\isnw}\\x83\\x88\\x8d\\x93\\x9e\\xa8\\xab\\xae\\xad\\xa2\\xa1'>,\n",
       " 'label': <tf.Tensor: id=151865, shape=(11,), dtype=float32, numpy=\n",
       " array([ 1.       , 12.848114 ,  8.13051  , -3.966813 , -2.4349658,\n",
       "        -8.361561 , -5.0972524, -6.1054854, -2.4269257,  4.8836684,\n",
       "         3.1228867], dtype=float32)>}"
      ]
     },
     "execution_count": 55,
     "metadata": {},
     "output_type": "execute_result"
    }
   ],
   "source": [
    "features"
   ]
  },
  {
   "cell_type": "code",
   "execution_count": null,
   "metadata": {},
   "outputs": [],
   "source": []
  }
 ],
 "metadata": {
  "kernelspec": {
   "display_name": "Python [conda env:tf_nasbench] *",
   "language": "python",
   "name": "conda-env-tf_nasbench-py"
  },
  "language_info": {
   "codemirror_mode": {
    "name": "ipython",
    "version": 3
   },
   "file_extension": ".py",
   "mimetype": "text/x-python",
   "name": "python",
   "nbconvert_exporter": "python",
   "pygments_lexer": "ipython3",
   "version": "3.6.10"
  }
 },
 "nbformat": 4,
 "nbformat_minor": 2
}
