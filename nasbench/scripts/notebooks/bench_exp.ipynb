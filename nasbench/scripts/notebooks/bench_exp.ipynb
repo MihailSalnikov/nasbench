{
 "cells": [
  {
   "cell_type": "code",
   "execution_count": 1,
   "metadata": {},
   "outputs": [
    {
     "name": "stdout",
     "output_type": "stream",
     "text": [
      "WARNING:tensorflow:From /usr/local/lib/python3.6/dist-packages/nasbench-1.0-py3.6.egg/nasbench/lib/training_time.py:130: The name tf.train.SessionRunHook is deprecated. Please use tf.estimator.SessionRunHook instead.\n",
      "\n",
      "WARNING:tensorflow:From /usr/local/lib/python3.6/dist-packages/nasbench-1.0-py3.6.egg/nasbench/lib/training_time.py:174: The name tf.train.CheckpointSaverListener is deprecated. Please use tf.estimator.CheckpointSaverListener instead.\n",
      "\n",
      "WARNING:tensorflow:From /usr/local/lib/python3.6/dist-packages/nasbench-1.0-py3.6.egg/nasbench/lib/evaluate.py:30: The name tf.train.NanLossDuringTrainingError is deprecated. Please use tf.estimator.NanLossDuringTrainingError instead.\n",
      "\n"
     ]
    }
   ],
   "source": [
    "from __future__ import absolute_import\n",
    "from __future__ import division\n",
    "from __future__ import print_function\n",
    "\n",
    "import tensorflow as tf\n",
    "\n",
    "import random\n",
    "import time\n",
    "import json\n",
    "\n",
    "from nasbench.lib import cifar\n",
    "from nasbench.lib import model_builder\n",
    "from nasbench.lib import training_time\n",
    "import numpy as np\n",
    "\n",
    "\n",
    "from nasbench.lib import evaluate\n",
    "from nasbench.lib import model_spec\n",
    "from nasbench.lib import config as _config\n",
    "\n",
    "from nasbench.scripts.run_evaluation import NumpyEncoder\n",
    "\n",
    "RESULTS_FILE = 'results.json'"
   ]
  },
  {
   "cell_type": "code",
   "execution_count": 2,
   "metadata": {},
   "outputs": [
    {
     "name": "stdout",
     "output_type": "stream",
     "text": [
      "Loading dataset from file... This may take a few minutes...\n",
      "WARNING:tensorflow:From /usr/local/lib/python3.6/dist-packages/nasbench-1.0-py3.6.egg/nasbench/api.py:146: tf_record_iterator (from tensorflow.python.lib.io.tf_record) is deprecated and will be removed in a future version.\n",
      "Instructions for updating:\n",
      "Use eager execution and: \n",
      "`tf.data.TFRecordDataset(path)`\n",
      "Loaded dataset in 95 seconds\n"
     ]
    }
   ],
   "source": [
    "from nasbench import api\n",
    "\n",
    "nasbench = api.NASBench('../data/nasbench_only108.tfrecord')"
   ]
  },
  {
   "cell_type": "code",
   "execution_count": null,
   "metadata": {},
   "outputs": [],
   "source": []
  },
  {
   "cell_type": "code",
   "execution_count": null,
   "metadata": {},
   "outputs": [],
   "source": []
  },
  {
   "cell_type": "code",
   "execution_count": 3,
   "metadata": {},
   "outputs": [],
   "source": [
    "keys = random.sample(nasbench.fixed_statistics.keys(), 20)"
   ]
  },
  {
   "cell_type": "code",
   "execution_count": 4,
   "metadata": {},
   "outputs": [],
   "source": [
    "import json\n",
    "with open(\"../data/student_data/keys_20.json\", 'w') as f:\n",
    "    json.dump(keys, f)"
   ]
  },
  {
   "cell_type": "code",
   "execution_count": null,
   "metadata": {},
   "outputs": [],
   "source": []
  },
  {
   "cell_type": "code",
   "execution_count": 8,
   "metadata": {},
   "outputs": [],
   "source": [
    "import tqdm.notebook\n",
    "\n",
    "accs = []\n",
    "for key in keys:\n",
    "    acc = np.mean([s['final_test_accuracy'] for s in nasbench.get_metrics_from_hash(key)[1][108]])\n",
    "    accs.append((key, acc))"
   ]
  },
  {
   "cell_type": "code",
   "execution_count": 10,
   "metadata": {},
   "outputs": [
    {
     "data": {
      "text/plain": [
       "[('9b1e8664851aa960d440b075e68583f6', 0.842848559220632),\n",
       " ('9e25f7ad3d1878b2032537ca1848904f', 0.8656183083852133),\n",
       " ('dfdeefbd128a1268fb4712b208ca9118', 0.8774038354555765),\n",
       " ('69348c1581d0b2a913ab1b0630f8bfc0', 0.8778712550799052),\n",
       " ('3e06877960ce32d0f1313f275a2d1561', 0.8833132982254028),\n",
       " ('e3c41bd2916fea4657056b77eed71adc', 0.8833132982254028),\n",
       " ('2ad4b83cbd27a532f99dbb67a939dcaf', 0.8930622339248657),\n",
       " ('7f2e534b633c971e639fd00f363fdd05', 0.8977363705635071),\n",
       " ('d6e80a86732ec73ef9f6b2c4ddd603f8', 0.9027777512868246),\n",
       " ('5595a4314b345d232f59c6140cbb8bf5', 0.9037125905354818),\n",
       " ('cf690b677beb7c45f63cab214fab8616', 0.9055154919624329),\n",
       " ('ac8193cd15dcbefe09a85d8e21936ab9', 0.9066840211550394),\n",
       " ('e880a849a4aaa64be78b59e899663df0', 0.9141626358032227),\n",
       " ('34cebf6f6c3e1b953edd782b69f850fc', 0.9153979818026224),\n",
       " ('8f53b0fcabc01639cd01c76b883c5855', 0.9193376104036967),\n",
       " ('5e710c5eacb1c1749d91600baa81915c', 0.9204727411270142),\n",
       " ('41fb42943850e7faf7746c0ca98a6f52', 0.9214076002438863),\n",
       " ('c805457fb091afbc4d8f95e9af699472', 0.9231437047322592),\n",
       " ('20fd8fcba727399ebd85615eb70c9b46', 0.9263488451639811),\n",
       " ('e1f19266715d98e5a401ade28cca20c2', 0.9272836645444235)]"
      ]
     },
     "execution_count": 10,
     "metadata": {},
     "output_type": "execute_result"
    }
   ],
   "source": [
    "sorted(accs, key=lambda x: x[1])"
   ]
  },
  {
   "cell_type": "code",
   "execution_count": 10,
   "metadata": {},
   "outputs": [
    {
     "data": {
      "text/plain": [
       "{'module_adjacency': array([[0, 1, 1, 0, 0, 1, 1],\n",
       "        [0, 0, 0, 0, 0, 1, 0],\n",
       "        [0, 0, 0, 1, 0, 0, 0],\n",
       "        [0, 0, 0, 0, 1, 0, 0],\n",
       "        [0, 0, 0, 0, 0, 1, 0],\n",
       "        [0, 0, 0, 0, 0, 0, 1],\n",
       "        [0, 0, 0, 0, 0, 0, 0]], dtype=int8),\n",
       " 'module_operations': ['input',\n",
       "  'conv1x1-bn-relu',\n",
       "  'conv3x3-bn-relu',\n",
       "  'maxpool3x3',\n",
       "  'conv3x3-bn-relu',\n",
       "  'conv3x3-bn-relu',\n",
       "  'output'],\n",
       " 'trainable_parameters': 32426634}"
      ]
     },
     "execution_count": 10,
     "metadata": {},
     "output_type": "execute_result"
    }
   ],
   "source": [
    "nasbench.fixed_statistics['02e5a0247bbdcf2860b7e96f74961594']"
   ]
  },
  {
   "cell_type": "code",
   "execution_count": 13,
   "metadata": {},
   "outputs": [
    {
     "data": {
      "text/plain": [
       "{'module_adjacency': array([[0, 1, 1, 0, 0, 1, 1],\n",
       "        [0, 0, 0, 0, 0, 1, 0],\n",
       "        [0, 0, 0, 1, 0, 0, 0],\n",
       "        [0, 0, 0, 0, 1, 0, 0],\n",
       "        [0, 0, 0, 0, 0, 1, 0],\n",
       "        [0, 0, 0, 0, 0, 0, 1],\n",
       "        [0, 0, 0, 0, 0, 0, 0]], dtype=int8),\n",
       " 'module_operations': ['input',\n",
       "  'conv1x1-bn-relu',\n",
       "  'conv3x3-bn-relu',\n",
       "  'maxpool3x3',\n",
       "  'conv3x3-bn-relu',\n",
       "  'conv3x3-bn-relu',\n",
       "  'output'],\n",
       " 'trainable_parameters': 32426634}"
      ]
     },
     "execution_count": 13,
     "metadata": {},
     "output_type": "execute_result"
    }
   ],
   "source": [
    "nasbench.fixed_statistics['02e5a0247bbdcf2860b7e96f74961594']"
   ]
  },
  {
   "cell_type": "code",
   "execution_count": 3,
   "metadata": {},
   "outputs": [],
   "source": [
    "cfg = _config.build_config()"
   ]
  },
  {
   "cell_type": "code",
   "execution_count": 11,
   "metadata": {},
   "outputs": [
    {
     "data": {
      "text/plain": [
       "{'train_data_files': [],\n",
       " 'valid_data_file': '',\n",
       " 'test_data_file': '',\n",
       " 'sample_data_file': '',\n",
       " 'data_format': 'channels_last',\n",
       " 'num_labels': 10,\n",
       " 'module_vertices': 7,\n",
       " 'max_edges': 9,\n",
       " 'available_ops': ['conv3x3-bn-relu', 'conv1x1-bn-relu', 'maxpool3x3'],\n",
       " 'stem_filter_size': 128,\n",
       " 'num_stacks': 3,\n",
       " 'num_modules_per_stack': 3,\n",
       " 'batch_size': 256,\n",
       " 'train_epochs': 108,\n",
       " 'train_seconds': 14400.0,\n",
       " 'learning_rate': 0.1,\n",
       " 'lr_decay_method': 'COSINE_BY_STEP',\n",
       " 'momentum': 0.9,\n",
       " 'weight_decay': 0.0001,\n",
       " 'max_attempts': 5,\n",
       " 'intermediate_evaluations': ['0.5'],\n",
       " 'num_repeats': 3,\n",
       " 'use_tpu': True,\n",
       " 'tpu_iterations_per_loop': 100,\n",
       " 'tpu_num_shards': 2}"
      ]
     },
     "execution_count": 11,
     "metadata": {},
     "output_type": "execute_result"
    }
   ],
   "source": [
    "cfg"
   ]
  },
  {
   "cell_type": "code",
   "execution_count": null,
   "metadata": {},
   "outputs": [],
   "source": []
  },
  {
   "cell_type": "code",
   "execution_count": 16,
   "metadata": {},
   "outputs": [],
   "source": [
    "from pathlib import Path"
   ]
  },
  {
   "cell_type": "code",
   "execution_count": 28,
   "metadata": {},
   "outputs": [
    {
     "data": {
      "text/plain": [
       "['/notebooks/nasbench/scripts/../data/dataset/train_3.tfrecords',\n",
       " '/notebooks/nasbench/scripts/../data/dataset/train_2.tfrecords',\n",
       " '/notebooks/nasbench/scripts/../data/dataset/train_4.tfrecords',\n",
       " '/notebooks/nasbench/scripts/../data/dataset/train_1.tfrecords']"
      ]
     },
     "execution_count": 28,
     "metadata": {},
     "output_type": "execute_result"
    }
   ],
   "source": [
    "list(map(str, list(Path.cwd().glob(\"../data/dataset/train_*.tfrecords\"))))"
   ]
  },
  {
   "cell_type": "code",
   "execution_count": 31,
   "metadata": {},
   "outputs": [
    {
     "data": {
      "text/plain": [
       "PosixPath('../data/*/123')"
      ]
     },
     "execution_count": 31,
     "metadata": {},
     "output_type": "execute_result"
    }
   ],
   "source": [
    "Path(\"../data\", \"*\", \"123\")"
   ]
  },
  {
   "cell_type": "code",
   "execution_count": null,
   "metadata": {},
   "outputs": [],
   "source": []
  },
  {
   "cell_type": "code",
   "execution_count": 32,
   "metadata": {},
   "outputs": [
    {
     "name": "stdout",
     "output_type": "stream",
     "text": [
      "2.6720016818576386 h\n",
      "1.1845109049479168 h\n",
      "3.7227913411458333 h\n",
      "1.7947283257378472 h\n",
      "1.3620741102430556 h\n",
      "1.5089516872829862 h\n"
     ]
    },
    {
     "ename": "FileNotFoundError",
     "evalue": "[Errno 2] No such file or directory: '../data/student_data/students.t_1.lmb_0.5/student_f7ea2d1d5b7bfad603ca2955ea0945f7/meta.json'",
     "output_type": "error",
     "traceback": [
      "\u001b[0;31m---------------------------------------------------------------------------\u001b[0m",
      "\u001b[0;31mFileNotFoundError\u001b[0m                         Traceback (most recent call last)",
      "\u001b[0;32m<ipython-input-32-a8257ef0ed9a>\u001b[0m in \u001b[0;36m<module>\u001b[0;34m\u001b[0m\n\u001b[1;32m      4\u001b[0m \u001b[0mpaths\u001b[0m \u001b[0;34m=\u001b[0m \u001b[0mpathlib\u001b[0m\u001b[0;34m.\u001b[0m\u001b[0mPath\u001b[0m\u001b[0;34m(\u001b[0m\u001b[0;34m'../data/student_data/students.t_1.lmb_0.5/'\u001b[0m\u001b[0;34m)\u001b[0m\u001b[0;34m.\u001b[0m\u001b[0mglob\u001b[0m\u001b[0;34m(\u001b[0m\u001b[0;34m'student_*'\u001b[0m\u001b[0;34m)\u001b[0m\u001b[0;34m\u001b[0m\u001b[0;34m\u001b[0m\u001b[0m\n\u001b[1;32m      5\u001b[0m \u001b[0;32mfor\u001b[0m \u001b[0mpath\u001b[0m \u001b[0;32min\u001b[0m \u001b[0mpaths\u001b[0m\u001b[0;34m:\u001b[0m\u001b[0;34m\u001b[0m\u001b[0;34m\u001b[0m\u001b[0m\n\u001b[0;32m----> 6\u001b[0;31m     \u001b[0;32mwith\u001b[0m \u001b[0mopen\u001b[0m\u001b[0;34m(\u001b[0m\u001b[0mpathlib\u001b[0m\u001b[0;34m.\u001b[0m\u001b[0mPath\u001b[0m\u001b[0;34m(\u001b[0m\u001b[0mpath\u001b[0m\u001b[0;34m,\u001b[0m \u001b[0;34m\"meta.json\"\u001b[0m\u001b[0;34m)\u001b[0m\u001b[0;34m,\u001b[0m \u001b[0;34m'r'\u001b[0m\u001b[0;34m)\u001b[0m \u001b[0;32mas\u001b[0m \u001b[0mf\u001b[0m\u001b[0;34m:\u001b[0m\u001b[0;34m\u001b[0m\u001b[0;34m\u001b[0m\u001b[0m\n\u001b[0m\u001b[1;32m      7\u001b[0m         \u001b[0mmeta\u001b[0m \u001b[0;34m=\u001b[0m \u001b[0mjson\u001b[0m\u001b[0;34m.\u001b[0m\u001b[0mload\u001b[0m\u001b[0;34m(\u001b[0m\u001b[0mf\u001b[0m\u001b[0;34m)\u001b[0m\u001b[0;34m\u001b[0m\u001b[0;34m\u001b[0m\u001b[0m\n\u001b[1;32m      8\u001b[0m     \u001b[0mprint\u001b[0m\u001b[0;34m(\u001b[0m\u001b[0mmeta\u001b[0m\u001b[0;34m[\u001b[0m\u001b[0;34m'evaluation_results'\u001b[0m\u001b[0;34m]\u001b[0m\u001b[0;34m[\u001b[0m\u001b[0;34m-\u001b[0m\u001b[0;36m1\u001b[0m\u001b[0;34m]\u001b[0m\u001b[0;34m[\u001b[0m\u001b[0;34m'training_time'\u001b[0m\u001b[0;34m]\u001b[0m \u001b[0;34m/\u001b[0m \u001b[0;36m60\u001b[0m \u001b[0;34m/\u001b[0m \u001b[0;36m60\u001b[0m\u001b[0;34m,\u001b[0m \u001b[0;34m'h'\u001b[0m\u001b[0;34m)\u001b[0m\u001b[0;34m\u001b[0m\u001b[0;34m\u001b[0m\u001b[0m\n",
      "\u001b[0;31mFileNotFoundError\u001b[0m: [Errno 2] No such file or directory: '../data/student_data/students.t_1.lmb_0.5/student_f7ea2d1d5b7bfad603ca2955ea0945f7/meta.json'"
     ]
    }
   ],
   "source": [
    "import json\n",
    "import pathlib\n",
    "\n",
    "paths = pathlib.Path('../data/student_data/students.t_1.lmb_0.5/').glob('student_*')\n",
    "for path in paths:\n",
    "    with open(pathlib.Path(path, \"meta.json\"), 'r') as f:\n",
    "        meta = json.load(f)\n",
    "    print(meta['evaluation_results'][-1]['training_time'] / 60 / 60, 'h')"
   ]
  },
  {
   "cell_type": "code",
   "execution_count": null,
   "metadata": {},
   "outputs": [],
   "source": []
  },
  {
   "cell_type": "code",
   "execution_count": 2,
   "metadata": {},
   "outputs": [
    {
     "name": "stdout",
     "output_type": "stream",
     "text": [
      "../data/dataset/train_1_KD_11.tfrecords\n"
     ]
    }
   ],
   "source": [
    "!ls ../data/dataset/train_1_KD_11.tfrecords"
   ]
  },
  {
   "cell_type": "code",
   "execution_count": 3,
   "metadata": {},
   "outputs": [],
   "source": [
    "import tensorflow as tf\n",
    "tf.enable_eager_execution()\n",
    "tf.get_logger().setLevel('ERROR')"
   ]
  },
  {
   "cell_type": "code",
   "execution_count": 7,
   "metadata": {},
   "outputs": [],
   "source": [
    "file = \"../data/dataset/train_1_KD_11.tfrecords\"\n",
    "raw_dataset = tf.data.TFRecordDataset([file])"
   ]
  },
  {
   "cell_type": "code",
   "execution_count": 8,
   "metadata": {},
   "outputs": [
    {
     "name": "stdout",
     "output_type": "stream",
     "text": [
      "1111\n"
     ]
    }
   ],
   "source": [
    "i = 0\n",
    "for r in raw_dataset:\n",
    "    i += 1\n",
    "print(i)"
   ]
  },
  {
   "cell_type": "code",
   "execution_count": 9,
   "metadata": {},
   "outputs": [
    {
     "data": {
      "text/plain": [
       "1100.0"
      ]
     },
     "execution_count": 9,
     "metadata": {},
     "output_type": "execute_result"
    }
   ],
   "source": [
    "10000 * (11 / 100.0)"
   ]
  },
  {
   "cell_type": "code",
   "execution_count": null,
   "metadata": {},
   "outputs": [],
   "source": [
    "key = next(nasbench.fixed_statistics.keys())"
   ]
  },
  {
   "cell_type": "code",
   "execution_count": null,
   "metadata": {},
   "outputs": [],
   "source": [
    "key "
   ]
  },
  {
   "cell_type": "code",
   "execution_count": null,
   "metadata": {},
   "outputs": [],
   "source": []
  }
 ],
 "metadata": {
  "kernelspec": {
   "display_name": "Python 3",
   "language": "python",
   "name": "python3"
  },
  "language_info": {
   "codemirror_mode": {
    "name": "ipython",
    "version": 3
   },
   "file_extension": ".py",
   "mimetype": "text/x-python",
   "name": "python",
   "nbconvert_exporter": "python",
   "pygments_lexer": "ipython3",
   "version": "3.6.10"
  }
 },
 "nbformat": 4,
 "nbformat_minor": 4
}
