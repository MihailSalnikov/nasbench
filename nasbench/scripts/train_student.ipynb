{
 "cells": [
  {
   "cell_type": "code",
   "execution_count": 2,
   "metadata": {},
   "outputs": [],
   "source": [
    "from __future__ import absolute_import\n",
    "from __future__ import division\n",
    "from __future__ import print_function\n",
    "\n",
    "import absl\n",
    "from absl import app\n",
    "from absl import flags\n",
    "from absl import logging\n",
    "\n",
    "import json\n",
    "from pathlib import Path\n",
    "\n",
    "from nasbench.lib import config as nasbench_config\n",
    "from nasbench.lib import model_spec\n",
    "from nasbench.lib import cifar\n",
    "from nasbench.lib import model_builder\n",
    "from nasbench import api as nasbench_api\n",
    "from nasbench.scripts.run_evaluation import NumpyEncoder\n",
    "\n",
    "import numpy as np\n",
    "import tensorflow as tf\n",
    "\n",
    "from utils import train\n",
    "\n",
    "from train_student import FLAGS"
   ]
  },
  {
   "cell_type": "code",
   "execution_count": 3,
   "metadata": {},
   "outputs": [],
   "source": [
    "%load_ext line_profiler"
   ]
  },
  {
   "cell_type": "code",
   "execution_count": 4,
   "metadata": {},
   "outputs": [
    {
     "data": {
      "text/plain": [
       "'02e5a0247bbdcf2860b7e96f74961594'"
      ]
     },
     "execution_count": 4,
     "metadata": {},
     "output_type": "execute_result"
    }
   ],
   "source": [
    "with open('../data/student_data/keys_20.json', \"r\") as f:\n",
    "    student_hash_keys = json.load(f)\n",
    "\n",
    "student_key = student_hash_keys[0]\n",
    "student_key"
   ]
  },
  {
   "cell_type": "code",
   "execution_count": 5,
   "metadata": {},
   "outputs": [
    {
     "name": "stdout",
     "output_type": "stream",
     "text": [
      "Loading dataset from file... This may take a few minutes...\n",
      "Loaded dataset in 36 seconds\n"
     ]
    }
   ],
   "source": [
    "nasbench = nasbench_api.NASBench('../data/nasbench_only108.tfrecord')"
   ]
  },
  {
   "cell_type": "code",
   "execution_count": 6,
   "metadata": {},
   "outputs": [],
   "source": [
    "def get_spc_cfg(student_key=student_key):\n",
    "    module = nasbench.fixed_statistics[student_key]\n",
    "    spec = model_spec.ModelSpec(module['module_adjacency'], module['module_operations'])\n",
    "\n",
    "    config = nasbench_config.build_config()\n",
    "    config['train_data_files'] = [\n",
    "        \"../data/dataset/train_1_KD_11.tfrecords\",\n",
    "        \"../data/dataset/train_2_KD_11.tfrecords\",\n",
    "        \"../data/dataset/train_3_KD_11.tfrecords\",\n",
    "        \"../data/dataset/train_4_KD_11.tfrecords\"\n",
    "    ]\n",
    "    config['valid_data_file'] = '../data/dataset/validation.tfrecords'\n",
    "    config['test_data_file'] = '../data/dataset/test.tfrecords'\n",
    "    config['sample_data_file'] = '../data/dataset/sample.tfrecords'\n",
    "    config['batch_size'] = 128\n",
    "    config['train_epochs'] = 108\n",
    "    config['use_tpu'] = False\n",
    "    config['use_KD'] = True\n",
    "    config['intermediate_evaluations'] = ['1.0']\n",
    "    config['imitation_lmb'] = 0.7\n",
    "    config['temperature'] = 20\n",
    "    \n",
    "    return spec, config\n",
    "#     train(spec, config, './tmp')"
   ]
  },
  {
   "cell_type": "code",
   "execution_count": 7,
   "metadata": {},
   "outputs": [
    {
     "name": "stdout",
     "output_type": "stream",
     "text": [
      "INFO:tensorflow:Using config: {'_model_dir': './tmp', '_tf_random_seed': None, '_save_summary_steps': 100, '_save_checkpoints_steps': None, '_save_checkpoints_secs': 1073741824, '_session_config': allow_soft_placement: true\n",
      "graph_options {\n",
      "  rewrite_options {\n",
      "    meta_optimizer_iterations: ONE\n",
      "  }\n",
      "}\n",
      ", '_keep_checkpoint_max': 3, '_keep_checkpoint_every_n_hours': 10000, '_log_step_count_steps': None, '_train_distribute': None, '_device_fn': None, '_protocol': None, '_eval_distribute': None, '_experimental_distribute': None, '_service': None, '_cluster_spec': <tensorflow.python.training.server_lib.ClusterSpec object at 0x7f8db596d9b0>, '_task_type': 'worker', '_task_id': 0, '_global_id_in_cluster': 0, '_master': '', '_evaluation_master': '', '_is_chief': True, '_num_ps_replicas': 0, '_num_worker_replicas': 1, '_tpu_config': TPUConfig(iterations_per_loop=100, num_shards=2, num_cores_per_replica=None, per_host_input_for_training=2, tpu_job_name=None, initial_infeed_sleep_secs=None, input_partition_dims=None), '_cluster': None}\n",
      "INFO:tensorflow:_TPUContext: eval_on_tpu True\n",
      "WARNING:tensorflow:eval_on_tpu ignored because use_tpu is False.\n"
     ]
    }
   ],
   "source": [
    "from nasbench.lib.evaluate import _TrainAndEvaluator\n",
    "\n",
    "spec, config = get_spc_cfg()\n",
    "evaluator = _TrainAndEvaluator(spec, config, './tmp')"
   ]
  },
  {
   "cell_type": "code",
   "execution_count": null,
   "metadata": {},
   "outputs": [
    {
     "name": "stdout",
     "output_type": "stream",
     "text": [
      "\n",
      "\n",
      "\n",
      "\n",
      "----------->\n",
      "train_steps:  3749 \n",
      "\n",
      "\n",
      "WARNING:tensorflow:From /home/ms/anaconda3/envs/tf-gpu/lib/python3.6/site-packages/nasbench/lib/cifar.py:118: shuffle_and_repeat (from tensorflow.contrib.data.python.ops.shuffle_ops) is deprecated and will be removed in a future version.\n",
      "Instructions for updating:\n",
      "Use `tf.data.experimental.shuffle_and_repeat(...)`.\n",
      "WARNING:tensorflow:From /home/ms/anaconda3/envs/tf-gpu/lib/python3.6/site-packages/nasbench/lib/cifar.py:136: map_and_batch (from tensorflow.contrib.data.python.ops.batching) is deprecated and will be removed in a future version.\n",
      "Instructions for updating:\n",
      "Use `tf.data.experimental.map_and_batch(...)`.\n",
      "INFO:tensorflow:Calling model_fn.\n",
      "INFO:tensorflow:Running train on CPU\n",
      "INFO:tensorflow:vertex_channels: [128, 128, 128, 128, 128, 128, 128]\n",
      "INFO:tensorflow:vertex_channels: [128, 128, 128, 128, 128, 128, 128]\n",
      "INFO:tensorflow:vertex_channels: [128, 128, 128, 128, 128, 128, 128]\n",
      "INFO:tensorflow:vertex_channels: [128, 256, 256, 256, 256, 256, 256]\n",
      "INFO:tensorflow:vertex_channels: [256, 256, 256, 256, 256, 256, 256]\n",
      "INFO:tensorflow:vertex_channels: [256, 256, 256, 256, 256, 256, 256]\n",
      "INFO:tensorflow:vertex_channels: [256, 512, 512, 512, 512, 512, 512]\n",
      "INFO:tensorflow:vertex_channels: [512, 512, 512, 512, 512, 512, 512]\n",
      "INFO:tensorflow:vertex_channels: [512, 512, 512, 512, 512, 512, 512]\n",
      "INFO:tensorflow:Done calling model_fn.\n",
      "INFO:tensorflow:Create CheckpointSaverHook.\n",
      "INFO:tensorflow:Graph was finalized.\n",
      "INFO:tensorflow:Running local_init_op.\n",
      "INFO:tensorflow:Done running local_init_op.\n",
      "INFO:tensorflow:Saving checkpoints for 0 into ./tmp/model.ckpt.\n"
     ]
    }
   ],
   "source": [
    "%lprun -f _TrainAndEvaluator.run evaluator.run()"
   ]
  },
  {
   "cell_type": "code",
   "execution_count": null,
   "metadata": {},
   "outputs": [],
   "source": []
  }
 ],
 "metadata": {
  "kernelspec": {
   "display_name": "Python 3",
   "language": "python",
   "name": "python3"
  },
  "language_info": {
   "codemirror_mode": {
    "name": "ipython",
    "version": 3
   },
   "file_extension": ".py",
   "mimetype": "text/x-python",
   "name": "python",
   "nbconvert_exporter": "python",
   "pygments_lexer": "ipython3",
   "version": "3.6.10"
  }
 },
 "nbformat": 4,
 "nbformat_minor": 4
}
