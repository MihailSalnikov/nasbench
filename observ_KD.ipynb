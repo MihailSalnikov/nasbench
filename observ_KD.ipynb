{
 "cells": [
  {
   "cell_type": "code",
   "execution_count": 1,
   "metadata": {},
   "outputs": [],
   "source": [
    "from collections import defaultdict\n",
    "\n",
    "import pathlib\n",
    "import json\n",
    "\n",
    "import scipy.stats\n",
    "import numpy as np\n",
    "import matplotlib.pyplot as plt"
   ]
  },
  {
   "cell_type": "code",
   "execution_count": 2,
   "metadata": {},
   "outputs": [
    {
     "name": "stdout",
     "output_type": "stream",
     "text": [
      "WARNING:tensorflow:From /notebooks/nasbench/lib/training_time.py:130: The name tf.train.SessionRunHook is deprecated. Please use tf.estimator.SessionRunHook instead.\n",
      "\n",
      "WARNING:tensorflow:From /notebooks/nasbench/lib/training_time.py:174: The name tf.train.CheckpointSaverListener is deprecated. Please use tf.estimator.CheckpointSaverListener instead.\n",
      "\n",
      "WARNING:tensorflow:From /notebooks/nasbench/lib/evaluate.py:30: The name tf.train.NanLossDuringTrainingError is deprecated. Please use tf.estimator.NanLossDuringTrainingError instead.\n",
      "\n",
      "Loading dataset from file... This may take a few minutes...\n",
      "WARNING:tensorflow:From /notebooks/nasbench/api.py:146: tf_record_iterator (from tensorflow.python.lib.io.tf_record) is deprecated and will be removed in a future version.\n",
      "Instructions for updating:\n",
      "Use eager execution and: \n",
      "`tf.data.TFRecordDataset(path)`\n",
      "Loaded dataset in 88 seconds\n"
     ]
    }
   ],
   "source": [
    "from nasbench import api\n",
    "\n",
    "nasbench = api.NASBench('nasbench/data/nasbench_only108.tfrecord')"
   ]
  },
  {
   "cell_type": "code",
   "execution_count": 3,
   "metadata": {},
   "outputs": [
    {
     "name": "stdout",
     "output_type": "stream",
     "text": [
      "keys_20.json\t\t\t    sokd_epoch12\n",
      "search_optimal_kd_params\t    sokd_epoch12_Momentum\n",
      "search_optimal_kd_params_adam_opt   sokd_epoch12_SGD\n",
      "search_optimal_kd_params_small_exp  students_ir0.7_t20\n"
     ]
    }
   ],
   "source": [
    "!ls ./nasbench/data/student_data/"
   ]
  },
  {
   "cell_type": "code",
   "execution_count": 17,
   "metadata": {},
   "outputs": [],
   "source": [
    "diff_configs_path = pathlib.Path(\"./nasbench/data/student_data/search_optimal_kd_params_adam_opt\").glob(\"*\")\n",
    "\n",
    "accs = defaultdict(list)\n",
    "times = defaultdict(list)\n",
    "p_acc_correlation = {}\n",
    "\n",
    "for conf_path in list(diff_configs_path):\n",
    "    no_kd_accs = []\n",
    "    for student_path in conf_path.glob(\"*\"):\n",
    "        try:\n",
    "            with open(pathlib.Path(student_path, \"meta.json\"), 'r') as f:\n",
    "                meta = json.load(f)\n",
    "                acc = meta['evaluation_results'][-1]['test_accuracy']\n",
    "            with open(pathlib.Path(student_path, \"kd_meta.json\"), 'r') as f:\n",
    "                kd_meta = json.load(f)\n",
    "                \n",
    "            key = tuple(kd_meta.values())[:2]\n",
    "            accs[key].append(acc)\n",
    "            times[key].append(meta['total_time'])\n",
    "\n",
    "            fs = nasbench.fixed_statistics[str(student_path).split('/')[-1].split(\"_\")[-1]]\n",
    "            q = nasbench.query(api.ModelSpec(matrix=fs['module_adjacency'], ops=fs['module_operations']))\n",
    "            no_kd_accs.append(q['test_accuracy'])\n",
    "        except Exception as e:\n",
    "            print(e)\n",
    "            key = tuple(kd_meta.values())[:2]\n",
    "            del accs[key]\n",
    "            del times[key]\n",
    "    \n",
    "    try:\n",
    "        key = tuple(kd_meta.values())[:2]\n",
    "        kd_accs = accs[key]\n",
    "        pc, _ = scipy.stats.pearsonr(kd_accs, no_kd_accs)\n",
    "        p_acc_correlation[key] = pc\n",
    "    except Exception as e:\n",
    "        print(e)\n",
    "        key = tuple(kd_meta.values())[:2]\n",
    "        if key in accs:\n",
    "            del accs[key]\n",
    "        if key in times:\n",
    "            del times[key]\n",
    "        if key in p_acc_correlation:\n",
    "            del p_acc_correlation[key]"
   ]
  },
  {
   "cell_type": "code",
   "execution_count": 18,
   "metadata": {},
   "outputs": [
    {
     "name": "stdout",
     "output_type": "stream",
     "text": [
      "lmbda = 0.5 T = 4.0 mean_acc = 0.675\n",
      "lmbda = 0.0 T = 4.0 mean_acc = 0.683\n",
      "lmbda = 0.5 T = 32.0 mean_acc = 0.664\n",
      "lmbda = 1.0 T = 4.0 mean_acc = 0.104\n",
      "lmbda = 1.0 T = 32.0 mean_acc = 0.099\n"
     ]
    }
   ],
   "source": [
    "for k, v in accs.items():\n",
    "    print(\"lmbda =\", k[0], \"T =\", k[1], \"mean_acc =\", round(np.mean(v), 3))"
   ]
  },
  {
   "cell_type": "code",
   "execution_count": 19,
   "metadata": {},
   "outputs": [
    {
     "name": "stdout",
     "output_type": "stream",
     "text": [
      "Best: lmb: 1.0; t: 32.0; acc: 0.0992938693612814\n",
      "Best: lmb: 1.0; t: 4.0; acc: 0.10350560881197453\n",
      "Best: lmb: 0.5; t: 32.0; acc: 0.664377999305725\n",
      "Best: lmb: 0.5; t: 4.0; acc: 0.6748147040605545\n",
      "Best: lmb: 0.0; t: 4.0; acc: 0.6826622605323791\n"
     ]
    },
    {
     "data": {
      "image/png": "[encoded data removed]",
      "text/plain": [
       "<Figure size 720x576 with 2 Axes>"
      ]
     },
     "metadata": {
      "needs_background": "light"
     },
     "output_type": "display_data"
    }
   ],
   "source": [
    "accs_keys = np.array(list(accs.keys()))\n",
    "lmbs = list(map(float, sorted(list(set(accs_keys[:, 0])))))\n",
    "ts = list(map(float, sorted(list(set(accs_keys[:, 1])), reverse=True)))\n",
    "\n",
    "X, Y = np.meshgrid(lmbs, ts)\n",
    "Z = np.zeros((len(lmbs), len(ts)))\n",
    "points = []\n",
    "\n",
    "for i, lmb in enumerate(lmbs):\n",
    "    for j, t in enumerate(ts):\n",
    "        if (lmb, t) in accs:\n",
    "            Z[i, j] = np.mean(accs[(lmb, t)])\n",
    "            points.append((lmb, t, np.mean(accs[(lmb, t)])))\n",
    "            \n",
    "points = np.array(points)\n",
    "\n",
    "fig, ax = plt.subplots(figsize=(10, 8))\n",
    "cs = ax.contourf(X, Y, Z.T)\n",
    "cbar = plt.colorbar(cs)\n",
    "cbar.set_label('accuracy')\n",
    "ax.scatter(points[:, 0], points[:, 1], color='r')\n",
    "ax.set_title(\"Accuracy for KD 1/9 trainset\")\n",
    "ax.set_xlabel('immitation lmb')\n",
    "ax.set_ylabel('temperature')\n",
    "\n",
    "for p in sorted(points, key=lambda x: x[-1]):\n",
    "    print(\"Best: lmb: {}; t: {}; acc: {}\".format(*p))"
   ]
  },
  {
   "cell_type": "code",
   "execution_count": 20,
   "metadata": {},
   "outputs": [
    {
     "name": "stdout",
     "output_type": "stream",
     "text": [
      "lmb: 1.0; t: 4.0; pearsonr: -0.24999349337081983\n",
      "lmb: 1.0; t: 32.0; pearsonr: -0.029822313634944947\n",
      "lmb: 0.5; t: 4.0; pearsonr: 0.7309182558003743\n",
      "lmb: 0.0; t: 4.0; pearsonr: 0.7515548337404869\n",
      "lmb: 0.5; t: 32.0; pearsonr: 0.7536367523789316\n"
     ]
    },
    {
     "data": {
      "image/png": "[encoded data removed]",
      "text/plain": [
       "<Figure size 720x576 with 2 Axes>"
      ]
     },
     "metadata": {
      "needs_background": "light"
     },
     "output_type": "display_data"
    }
   ],
   "source": [
    "Z_pc = np.zeros((len(lmbs), len(ts)))\n",
    "\n",
    "for i, lmb in enumerate(lmbs):\n",
    "    for j, t in enumerate(ts):\n",
    "        if (lmb, t) in accs:\n",
    "            Z_pc[i, j] = p_acc_correlation[(lmb, t)]\n",
    "            \n",
    "fig, ax = plt.subplots(figsize=(10, 8))\n",
    "cs = ax.contourf(X, Y, Z_pc.T)\n",
    "cbar = plt.colorbar(cs)\n",
    "cbar.set_label('pearsonr')\n",
    "ax.scatter(points[:, 0], points[:, 1], color='r')\n",
    "ax.set_title(\"Pearson correlation of accuracy origin(No KD) vs KD 1/9 trainset\")\n",
    "ax.set_xlabel('immitation lmb')\n",
    "ax.set_ylabel('temperature')\n",
    "\n",
    "best_result = sorted(list(p_acc_correlation.items()), key=lambda x: x[-1])\n",
    "for i in range(len(best_result)):\n",
    "    print(\"lmb: {}; t: {}; pearsonr: {}\".format(best_result[i][0][0], best_result[i][0][1], best_result[i][1]))"
   ]
  },
  {
   "cell_type": "code",
   "execution_count": null,
   "metadata": {},
   "outputs": [],
   "source": [
    "import pandas as pd\n",
    "\n",
    "pd.DataFrame(points, columns=['lambda', 't', 'acc']).sort_values('acc', ascending=False)"
   ]
  },
  {
   "cell_type": "code",
   "execution_count": null,
   "metadata": {},
   "outputs": [],
   "source": []
  },
  {
   "cell_type": "code",
   "execution_count": null,
   "metadata": {},
   "outputs": [],
   "source": []
  },
  {
   "cell_type": "code",
   "execution_count": null,
   "metadata": {},
   "outputs": [],
   "source": []
  },
  {
   "cell_type": "code",
   "execution_count": 14,
   "metadata": {},
   "outputs": [],
   "source": [
    "from nasbench.lib import model_spec\n",
    "import tqdm"
   ]
  },
  {
   "cell_type": "code",
   "execution_count": 15,
   "metadata": {},
   "outputs": [
    {
     "name": "stderr",
     "output_type": "stream",
     "text": [
      "100%|██████████| 423624/423624 [11:58<00:00, 589.97it/s]\n"
     ]
    }
   ],
   "source": [
    "stats = []\n",
    "\n",
    "for key in tqdm.tqdm(nasbench.fixed_statistics.keys()):\n",
    "    matrix = nasbench.fixed_statistics[key]['module_adjacency']\n",
    "    ops = nasbench.fixed_statistics[key]['module_operations']\n",
    "    spec = model_spec.ModelSpec(matrix=matrix, ops=ops)\n",
    "\n",
    "    training_time = nasbench.query(spec)['training_time']\n",
    "    test_accuracy = nasbench.query(spec)['test_accuracy']\n",
    "    stats.append((key, training_time, test_accuracy))"
   ]
  },
  {
   "cell_type": "code",
   "execution_count": 17,
   "metadata": {},
   "outputs": [
    {
     "data": {
      "text/plain": [
       "[('043721b9c7fe8c5fad811d47d83132ec', 285.03802490234375, 0.8359375),\n",
       " ('57d3e1b6dbaa838bbc74859c402bd77e', 472.5999755859375, 0.7259615659713745),\n",
       " ('3ae23b37681b7b34c661b643fb7e64ae', 474.70501708984375, 0.8549679517745972),\n",
       " ('03b93dfb7246c274504b4e6bb18cb727', 476.05499267578125, 0.8547676205635071),\n",
       " ('4102fbccae72145c3449756185c325ce', 476.1419982910156, 0.8488581776618958),\n",
       " ('26ef2e174bec27f4cdd42a93d92728d0', 476.9570007324219, 0.7206530570983887),\n",
       " ('6fad6b810775d4f2a2acbce0291fe544', 476.98602294921875, 0.8495593070983887),\n",
       " ('dae9d8a20cceb123c6fc5479d7b61e2a', 481.3170166015625, 0.8425480723381042),\n",
       " ('f08d0575590eb97a97cdeca3f25177b3', 481.3389892578125, 0.7444911599159241),\n",
       " ('79ac0ca945869f05b1fc34f4110f67d3', 481.36798095703125, 0.7963742017745972)]"
      ]
     },
     "execution_count": 17,
     "metadata": {},
     "output_type": "execute_result"
    }
   ],
   "source": [
    "sorted(stats, key=lambda x: x[1])[:10]"
   ]
  },
  {
   "cell_type": "code",
   "execution_count": 5,
   "metadata": {},
   "outputs": [
    {
     "data": {
      "text/plain": [
       "{'module_adjacency': array([[0, 1, 0, 0, 0, 0],\n",
       "        [0, 0, 1, 0, 0, 1],\n",
       "        [0, 0, 0, 1, 0, 1],\n",
       "        [0, 0, 0, 0, 1, 1],\n",
       "        [0, 0, 0, 0, 0, 1],\n",
       "        [0, 0, 0, 0, 0, 0]], dtype=int8),\n",
       " 'module_operations': ['input',\n",
       "  'conv1x1-bn-relu',\n",
       "  'conv1x1-bn-relu',\n",
       "  'conv1x1-bn-relu',\n",
       "  'conv1x1-bn-relu',\n",
       "  'output'],\n",
       " 'trainable_parameters': 490698}"
      ]
     },
     "execution_count": 5,
     "metadata": {},
     "output_type": "execute_result"
    }
   ],
   "source": [
    "nasbench.fixed_statistics[\"57d3e1b6dbaa838bbc74859c402bd77e\"]"
   ]
  },
  {
   "cell_type": "code",
   "execution_count": null,
   "metadata": {},
   "outputs": [],
   "source": []
  }
 ],
 "metadata": {
  "kernelspec": {
   "display_name": "Python 3",
   "language": "python",
   "name": "python3"
  },
  "language_info": {
   "codemirror_mode": {
    "name": "ipython",
    "version": 3
   },
   "file_extension": ".py",
   "mimetype": "text/x-python",
   "name": "python",
   "nbconvert_exporter": "python",
   "pygments_lexer": "ipython3",
   "version": "3.6.9"
  }
 },
 "nbformat": 4,
 "nbformat_minor": 4
}
